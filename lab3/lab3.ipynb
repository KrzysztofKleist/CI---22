{
 "cells": [
  {
   "cell_type": "markdown",
   "metadata": {
    "pycharm": {
     "name": "#%%\n"
    }
   },
   "source": [
    "# Lab 3: Policy Search\n",
    "\n",
    "## Task\n",
    "\n",
    "Write agents able to play [_Nim_](https://en.wikipedia.org/wiki/Nim), with an arbitrary number of rows and an upper bound $k$ on the number of objects that can be removed in a turn (a.k.a., _subtraction game_).\n",
    "\n",
    "The player **taking the last object wins**.\n",
    "\n",
    "- Task3.1: An agent using fixed rules based on _nim-sum_ (i.e., an _expert system_)\n",
    "- Task3.2: An agent using evolved rules\n",
    "- Task3.3: An agent using minmax\n",
    "- Task3.4: An agent using reinforcement learning\n",
    "\n",
    "## Instructions\n",
    "\n",
    "- Create the directory `lab3` inside the course repo\n",
    "- Put a `README.md` and your solution (all the files, code and auxiliary data if needed)\n",
    "\n",
    "## Notes\n",
    "\n",
    "- Working in group is not only allowed, but recommended (see: [Ubuntu](https://en.wikipedia.org/wiki/Ubuntu_philosophy) and [Cooperative Learning](https://files.eric.ed.gov/fulltext/EJ1096789.pdf)). Collaborations must be explicitly declared in the `README.md`.\n",
    "- [Yanking](https://www.emacswiki.org/emacs/KillingAndYanking) from the internet is allowed, but sources must be explicitly declared in the `README.md`.\n",
    "\n",
    "## Deadlines ([AoE](https://en.wikipedia.org/wiki/Anywhere_on_Earth))\n",
    "\n",
    "- Sunday, December 4th for Task3.1 and Task3.2\n",
    "- Sunday, December 11th for Task3.3 and Task3.4\n",
    "- Sunday, December 18th for all reviews\n"
   ]
  },
  {
   "cell_type": "code",
   "execution_count": 1,
   "metadata": {},
   "outputs": [],
   "source": [
    "from typing import Callable\n",
    "from copy import deepcopy\n",
    "from operator import xor\n",
    "from itertools import accumulate\n",
    "import random\n",
    "from collections import namedtuple\n",
    "import logging\n",
    "from tqdm import tqdm\n"
   ]
  },
  {
   "cell_type": "markdown",
   "metadata": {},
   "source": [
    "## The _Nim_ and _Nimply_ classes\n"
   ]
  },
  {
   "cell_type": "code",
   "execution_count": 2,
   "metadata": {},
   "outputs": [],
   "source": [
    "Nimply = namedtuple(\"Nimply\", \"row, num_objects\")\n"
   ]
  },
  {
   "cell_type": "code",
   "execution_count": 3,
   "metadata": {},
   "outputs": [],
   "source": [
    "# Nim class from the lecture\n",
    "class Nim:\n",
    "    def __init__(self, num_rows: int, k: int = None) -> None:\n",
    "        self._rows = [i * 2 + 1 for i in range(num_rows)]\n",
    "        self._k = k\n",
    "\n",
    "    def __bool__(self):\n",
    "        return sum(self._rows) > 0\n",
    "\n",
    "    def __str__(self):\n",
    "        return \"<\" + \" \".join(str(_) for _ in self._rows) + \">\"\n",
    "\n",
    "    @property\n",
    "    def k(self) -> int:\n",
    "        return self._k\n",
    "\n",
    "    @property\n",
    "    def rows(self) -> tuple:\n",
    "        return tuple(self._rows)\n",
    "\n",
    "    def nimming(self, ply: Nimply) -> None:\n",
    "        row, num_objects = ply\n",
    "        # assert self._rows[row] >= num_objects\n",
    "        assert self._k is None or num_objects <= self._k\n",
    "        self._rows[row] -= num_objects\n"
   ]
  },
  {
   "cell_type": "markdown",
   "metadata": {},
   "source": [
    "## Sample (and silly) startegies\n"
   ]
  },
  {
   "cell_type": "code",
   "execution_count": 4,
   "metadata": {},
   "outputs": [],
   "source": [
    "# pure_random from the lecture\n",
    "def pure_random(state: Nim) -> Nimply:\n",
    "    row = random.choice([r for r, c in enumerate(state.rows) if c > 0])\n",
    "    if state.k == None:\n",
    "        num_objects = random.randint(1, state.rows[row])\n",
    "    elif state.rows[row] < state.k:\n",
    "        num_objects = random.randint(1, state.rows[row])\n",
    "    else:\n",
    "        num_objects = random.randint(1, state.k)\n",
    "    return Nimply(row, num_objects)\n"
   ]
  },
  {
   "cell_type": "code",
   "execution_count": 5,
   "metadata": {},
   "outputs": [],
   "source": [
    "# gabriele's idea from the lecture\n",
    "def gabriele(state: Nim) -> Nimply:\n",
    "    # pick always the maximum possible number of the lowest row\n",
    "    possible_moves = [(r, o) for r, c in enumerate(state.rows)\n",
    "                      for o in range(1, c + 1)]\n",
    "    if state.k != None:\n",
    "        possible_moves = [p for p in possible_moves if p[1] <= state.k]\n",
    "    return Nimply(*max(possible_moves, key=lambda m: (-m[0], m[1])))\n"
   ]
  },
  {
   "cell_type": "markdown",
   "metadata": {},
   "source": [
    "#### My strategies\n"
   ]
  },
  {
   "cell_type": "code",
   "execution_count": 6,
   "metadata": {},
   "outputs": [],
   "source": [
    "# my strategy is to play high numbers at first, until, there are only 10 sticks left\n",
    "# and then to play 1 or 2 sticks each time, depending on how many are left\n",
    "def krzysztof(state: Nim) -> Nimply:\n",
    "    sum_rows = sum(row for row in state.rows)\n",
    "\n",
    "    if sum_rows > 10:\n",
    "        row = max((x for x in enumerate(state.rows)\n",
    "                   if x[1] > 0), key=lambda y: y[1])[0]\n",
    "        if state.k == None:\n",
    "            num_objects = state.rows[row]\n",
    "        elif state.rows[row] < state.k:\n",
    "            num_objects = state.rows[row]\n",
    "        else:\n",
    "            num_objects = state.k\n",
    "        ply = Nimply(row, num_objects)\n",
    "\n",
    "    elif (sum_rows % 2) == 0:\n",
    "        # if the number of sticks is even I'm taking 2\n",
    "        row = random.choice([r for r, c in enumerate(state.rows) if c > 0])\n",
    "        ply = Nimply(row, 2)\n",
    "\n",
    "    else:\n",
    "        # if the number of sticks is odd I'm taking 1\n",
    "        row = random.choice([r for r, c in enumerate(state.rows) if c > 0])\n",
    "        ply = Nimply(row, 1)\n",
    "\n",
    "    return ply\n"
   ]
  },
  {
   "cell_type": "code",
   "execution_count": 7,
   "metadata": {},
   "outputs": [],
   "source": [
    "def longest_row(state: Nim) -> Nimply:\n",
    "    # chooses rows with the most elements\n",
    "    row = max((x for x in enumerate(state.rows)\n",
    "              if x[1] > 0), key=lambda y: y[1])[0]\n",
    "    if state.k == None:\n",
    "        num_objects = random.randint(1, state.rows[row])\n",
    "    elif state.rows[row] < state.k:\n",
    "        num_objects = random.randint(1, state.rows[row])\n",
    "    else:\n",
    "        num_objects = random.randint(1, state.k)\n",
    "    return Nimply(row, random.randint(1, num_objects))\n"
   ]
  },
  {
   "cell_type": "code",
   "execution_count": 8,
   "metadata": {},
   "outputs": [],
   "source": [
    "def shortest_row(state: Nim) -> Nimply:\n",
    "    # chooses rows with the least elements\n",
    "    row = min((x for x in enumerate(state.rows)\n",
    "              if x[1] > 0), key=lambda y: y[1])[0]\n",
    "    if state.k == None:\n",
    "        num_objects = random.randint(1, state.rows[row])\n",
    "    elif state.rows[row] < state.k:\n",
    "        num_objects = random.randint(1, state.rows[row])\n",
    "    else:\n",
    "        num_objects = random.randint(1, state.k)\n",
    "    return Nimply(row, random.randint(1, num_objects))\n"
   ]
  },
  {
   "cell_type": "code",
   "execution_count": 9,
   "metadata": {},
   "outputs": [],
   "source": [
    "def take_one(state: Nim) -> Nimply:\n",
    "    # takes one element from the first non-empty row\n",
    "    row = tuple((x for x in enumerate(state.rows) if x[1] > 0))[0][0]\n",
    "    return Nimply(row, 1)\n"
   ]
  },
  {
   "cell_type": "markdown",
   "metadata": {},
   "source": [
    "## Optimal strategy\n"
   ]
  },
  {
   "cell_type": "code",
   "execution_count": 10,
   "metadata": {},
   "outputs": [],
   "source": [
    "# optimal strategy using nim sum (a bit different implementation than the lecture)\n",
    "def nim_sum(state: Nim) -> int:\n",
    "    *_, result = accumulate(state.rows, xor)\n",
    "    return result\n",
    "\n",
    "\n",
    "def optimal_strategy(state: Nim) -> Nimply:\n",
    "    # retrieve the possible moves\n",
    "    possible_moves = [(r, o) for r, c in enumerate(state.rows)\n",
    "                      for o in range(1, c + 1)]\n",
    "    if state.k != None:\n",
    "        possible_moves = [p for p in possible_moves if p[1] <= state.k]\n",
    "\n",
    "    # check the values of nim_sum after all possible moves\n",
    "    possible_moves_optimal = list()\n",
    "\n",
    "    for move in possible_moves:\n",
    "        temp_state = deepcopy(state)\n",
    "        temp_state.nimming(Nimply(move[0], move[1]))\n",
    "        if nim_sum(temp_state) == 0:\n",
    "            possible_moves_optimal.append(move)\n",
    "\n",
    "    if possible_moves_optimal == []:\n",
    "        chosen_move = random.choice(possible_moves)\n",
    "    else:\n",
    "        chosen_move = random.choice(possible_moves_optimal)\n",
    "\n",
    "    return Nimply(chosen_move[0], chosen_move[1])\n"
   ]
  },
  {
   "cell_type": "markdown",
   "metadata": {},
   "source": [
    "## Evaluate\n"
   ]
  },
  {
   "cell_type": "code",
   "execution_count": 11,
   "metadata": {},
   "outputs": [],
   "source": [
    "# games are ran NUM_MATCHES times to check the average result\n",
    "def evaluate(NUM_MATCHES: int, NIM_SIZE: int, strategy0: Callable, strategy1: Callable, k=None) -> float:\n",
    "    opponent = (strategy0, strategy1)\n",
    "    won = 0\n",
    "\n",
    "    for m in range(NUM_MATCHES):\n",
    "        nim = Nim(NIM_SIZE, k)\n",
    "        player = 0\n",
    "        while nim:\n",
    "            ply = opponent[player](nim)\n",
    "            nim.nimming(ply)\n",
    "            player = 1 - player\n",
    "        if player == 0:\n",
    "            won += 1\n",
    "    return won / NUM_MATCHES\n"
   ]
  },
  {
   "cell_type": "markdown",
   "metadata": {},
   "source": [
    "# Task 3.1\n",
    "\n",
    "## Evaluate my strategy (krzysztof)\n"
   ]
  },
  {
   "cell_type": "markdown",
   "metadata": {},
   "source": [
    "#### Against pure_random\n"
   ]
  },
  {
   "cell_type": "code",
   "execution_count": 12,
   "metadata": {},
   "outputs": [
    {
     "name": "stdout",
     "output_type": "stream",
     "text": [
      "NIM_SIZE: 3\n",
      "\tNUM_MATHES: 10 k: None result 0.8\n",
      "\tNUM_MATHES: 10 k: 5 result 0.9\n",
      "\tNUM_MATHES: 10 k: 3 result 0.7\n",
      "\tNUM_MATHES: 10 k: 2 result 0.7\n",
      "\tNUM_MATHES: 100 k: None result 0.73\n",
      "\tNUM_MATHES: 100 k: 5 result 0.72\n",
      "\tNUM_MATHES: 100 k: 3 result 0.73\n",
      "\tNUM_MATHES: 100 k: 2 result 0.72\n",
      "\tNUM_MATHES: 1000 k: None result 0.68\n",
      "\tNUM_MATHES: 1000 k: 5 result 0.679\n",
      "\tNUM_MATHES: 1000 k: 3 result 0.755\n",
      "\tNUM_MATHES: 1000 k: 2 result 0.752\n",
      "NIM_SIZE: 4\n",
      "\tNUM_MATHES: 10 k: None result 0.5\n",
      "\tNUM_MATHES: 10 k: 5 result 0.8\n",
      "\tNUM_MATHES: 10 k: 3 result 0.8\n",
      "\tNUM_MATHES: 10 k: 2 result 0.9\n",
      "\tNUM_MATHES: 100 k: None result 0.73\n",
      "\tNUM_MATHES: 100 k: 5 result 0.75\n",
      "\tNUM_MATHES: 100 k: 3 result 0.76\n",
      "\tNUM_MATHES: 100 k: 2 result 0.8\n",
      "\tNUM_MATHES: 1000 k: None result 0.7\n",
      "\tNUM_MATHES: 1000 k: 5 result 0.727\n",
      "\tNUM_MATHES: 1000 k: 3 result 0.725\n",
      "\tNUM_MATHES: 1000 k: 2 result 0.762\n",
      "NIM_SIZE: 5\n",
      "\tNUM_MATHES: 10 k: None result 0.7\n",
      "\tNUM_MATHES: 10 k: 5 result 0.7\n",
      "\tNUM_MATHES: 10 k: 3 result 0.8\n",
      "\tNUM_MATHES: 10 k: 2 result 0.9\n",
      "\tNUM_MATHES: 100 k: None result 0.66\n",
      "\tNUM_MATHES: 100 k: 5 result 0.7\n",
      "\tNUM_MATHES: 100 k: 3 result 0.77\n",
      "\tNUM_MATHES: 100 k: 2 result 0.82\n",
      "\tNUM_MATHES: 1000 k: None result 0.695\n",
      "\tNUM_MATHES: 1000 k: 5 result 0.734\n",
      "\tNUM_MATHES: 1000 k: 3 result 0.789\n",
      "\tNUM_MATHES: 1000 k: 2 result 0.773\n",
      "NIM_SIZE: 8\n",
      "\tNUM_MATHES: 10 k: None result 0.7\n",
      "\tNUM_MATHES: 10 k: 5 result 0.6\n",
      "\tNUM_MATHES: 10 k: 3 result 0.9\n",
      "\tNUM_MATHES: 10 k: 2 result 1.0\n",
      "\tNUM_MATHES: 100 k: None result 0.67\n",
      "\tNUM_MATHES: 100 k: 5 result 0.77\n",
      "\tNUM_MATHES: 100 k: 3 result 0.85\n",
      "\tNUM_MATHES: 100 k: 2 result 0.88\n",
      "\tNUM_MATHES: 1000 k: None result 0.71\n",
      "\tNUM_MATHES: 1000 k: 5 result 0.774\n",
      "\tNUM_MATHES: 1000 k: 3 result 0.782\n",
      "\tNUM_MATHES: 1000 k: 2 result 0.817\n",
      "NIM_SIZE: 10\n",
      "\tNUM_MATHES: 10 k: None result 0.9\n",
      "\tNUM_MATHES: 10 k: 5 result 0.8\n",
      "\tNUM_MATHES: 10 k: 3 result 0.6\n",
      "\tNUM_MATHES: 10 k: 2 result 0.9\n",
      "\tNUM_MATHES: 100 k: None result 0.63\n",
      "\tNUM_MATHES: 100 k: 5 result 0.82\n",
      "\tNUM_MATHES: 100 k: 3 result 0.81\n",
      "\tNUM_MATHES: 100 k: 2 result 0.87\n",
      "\tNUM_MATHES: 1000 k: None result 0.707\n",
      "\tNUM_MATHES: 1000 k: 5 result 0.764\n",
      "\tNUM_MATHES: 1000 k: 3 result 0.826\n",
      "\tNUM_MATHES: 1000 k: 2 result 0.852\n",
      "NIM_SIZE: 15\n",
      "\tNUM_MATHES: 10 k: None result 0.6\n",
      "\tNUM_MATHES: 10 k: 5 result 0.8\n",
      "\tNUM_MATHES: 10 k: 3 result 0.8\n",
      "\tNUM_MATHES: 10 k: 2 result 0.7\n",
      "\tNUM_MATHES: 100 k: None result 0.73\n",
      "\tNUM_MATHES: 100 k: 5 result 0.82\n",
      "\tNUM_MATHES: 100 k: 3 result 0.89\n",
      "\tNUM_MATHES: 100 k: 2 result 0.76\n",
      "\tNUM_MATHES: 1000 k: None result 0.74\n",
      "\tNUM_MATHES: 1000 k: 5 result 0.821\n",
      "\tNUM_MATHES: 1000 k: 3 result 0.872\n",
      "\tNUM_MATHES: 1000 k: 2 result 0.885\n",
      "NIM_SIZE: 20\n",
      "\tNUM_MATHES: 10 k: None result 0.7\n",
      "\tNUM_MATHES: 10 k: 5 result 0.8\n",
      "\tNUM_MATHES: 10 k: 3 result 1.0\n",
      "\tNUM_MATHES: 10 k: 2 result 0.8\n",
      "\tNUM_MATHES: 100 k: None result 0.74\n",
      "\tNUM_MATHES: 100 k: 5 result 0.8\n",
      "\tNUM_MATHES: 100 k: 3 result 0.85\n",
      "\tNUM_MATHES: 100 k: 2 result 0.93\n",
      "\tNUM_MATHES: 1000 k: None result 0.732\n",
      "\tNUM_MATHES: 1000 k: 5 result 0.82\n",
      "\tNUM_MATHES: 1000 k: 3 result 0.868\n",
      "\tNUM_MATHES: 1000 k: 2 result 0.906\n",
      "Average of all above results: 0.776\n"
     ]
    }
   ],
   "source": [
    "result_list = list()\n",
    "for NIM_SIZE in [3, 4, 5, 8, 10, 15, 20]:\n",
    "    print(\"NIM_SIZE:\", NIM_SIZE)\n",
    "    for NUM_MATCHES in [10, 100, 1000]:\n",
    "        for k in [None, 5, 3, 2]:\n",
    "            result = evaluate(NUM_MATCHES, NIM_SIZE, pure_random, krzysztof, k)\n",
    "            result_list.append(result)\n",
    "            print(\"\\tNUM_MATHES:\", NUM_MATCHES, \"k:\", k, \"result\", result)\n",
    "\n",
    "print(\"Average of all above results:\", round(\n",
    "    sum(result_list)/len(result_list), 3))\n"
   ]
  },
  {
   "cell_type": "markdown",
   "metadata": {},
   "source": [
    "# Task 3.2\n"
   ]
  },
  {
   "cell_type": "markdown",
   "metadata": {},
   "source": [
    "## Pick partial strategy\n",
    "\n",
    "#### For evolvable strategy\n"
   ]
  },
  {
   "cell_type": "code",
   "execution_count": 13,
   "metadata": {},
   "outputs": [],
   "source": [
    "# function used to determine which partial strategy I'm using every iteration\n",
    "# based on scores assigned for each strategy (longest_row, shortest_row ... etc.)\n",
    "def choose_strategy(genome: dict) -> int:\n",
    "    # multiply scores to get int values\n",
    "    genome_100 = tuple(int(genome.get(g) * 100) for g in genome)\n",
    "\n",
    "    # list of values of scores with numbers assigned to each strategy\n",
    "    prob_list = list()\n",
    "    # strategy value changing at each iteration\n",
    "    strategy_value = 1\n",
    "    for i in genome_100:\n",
    "        for j in range(i):\n",
    "            prob_list.append(strategy_value)\n",
    "        strategy_value += 1\n",
    "\n",
    "    # returned values are equivalent to:\n",
    "    # longest_row: 1\n",
    "    # shortest_row: 2\n",
    "    # take_one: 3\n",
    "    # gabriele_strategy: 4\n",
    "    # pure_random_strategy: 5\n",
    "    # krzysztof_strategy: 6\n",
    "    # nim_sum: 7\n",
    "    # at the end we choose random strategy but the distribution of them\n",
    "    # in the list is weighted\n",
    "\n",
    "    return random.choice(prob_list)\n"
   ]
  },
  {
   "cell_type": "markdown",
   "metadata": {},
   "source": [
    "## Evolvable strategy\n"
   ]
  },
  {
   "cell_type": "code",
   "execution_count": 14,
   "metadata": {},
   "outputs": [],
   "source": [
    "def make_strategy(genome: dict) -> Callable:\n",
    "    # evolvable strategy that takes scores for different partial strategies as parameters\n",
    "    def evolvable(state: Nim) -> Nimply:\n",
    "\n",
    "        choice = choose_strategy(genome)\n",
    "\n",
    "        if choice == 1:  # longest_row\n",
    "            # chooses rows with the most elements\n",
    "            ply = longest_row(state)\n",
    "\n",
    "        if choice == 2:  # shortest_row\n",
    "            # chooses rows with the least elements\n",
    "            ply = shortest_row(state)\n",
    "\n",
    "        if choice == 3:  # take_one\n",
    "            # takes one element from the first non-empty row\n",
    "            ply = take_one(state)\n",
    "\n",
    "        if choice == 4:  # gabriele_strategy\n",
    "            # implements gabriele_strategy\n",
    "            ply = gabriele(state)\n",
    "\n",
    "        if choice == 5:  # pure_random_strategy\n",
    "            # implements pure_random_strategy\n",
    "            ply = pure_random(state)\n",
    "\n",
    "        if choice == 6:  # krzysztof_strategy\n",
    "            # implements krzysztof_strategy\n",
    "            ply = krzysztof(state)\n",
    "\n",
    "        if choice == 7:  # nim_sum\n",
    "            # implements nim_sum\n",
    "            ply = optimal_strategy(state)\n",
    "\n",
    "        return ply\n",
    "\n",
    "    return evolvable\n"
   ]
  },
  {
   "cell_type": "code",
   "execution_count": 15,
   "metadata": {},
   "outputs": [],
   "source": [
    "# choose the strategy that will be used to estimate the success rate of evaluated strategy\n",
    "# EVALUATION_STRATEGY = pure_random\n",
    "EVALUATION_STRATEGY = optimal_strategy\n",
    "k = 3\n",
    "# k = None\n"
   ]
  },
  {
   "cell_type": "code",
   "execution_count": 16,
   "metadata": {},
   "outputs": [
    {
     "name": "stdout",
     "output_type": "stream",
     "text": [
      "0.11\n",
      "0.15\n",
      "0.2\n",
      "0.2\n",
      "0.17\n",
      "0.13\n",
      "0.16\n",
      "0.17\n",
      "0.19\n",
      "0.13\n"
     ]
    }
   ],
   "source": [
    "# trial run for comparison of EVALUATION_STRATEGY and our strategy\n",
    "for _ in range(10):\n",
    "    print(evaluate(100, 4, EVALUATION_STRATEGY,\n",
    "          make_strategy({\"longest_row\": 0.5, \"shortest_row\": 0.5, \"take_one\": 0.5,\n",
    "                         \"gabriele_strategy\": 0.5, \"pure_random_strategy\": 0.5, \"krzysztof_strategy\": 0.5, \"nim_sum\": 0.5}), k))\n"
   ]
  },
  {
   "cell_type": "markdown",
   "metadata": {},
   "source": [
    "## Evolution\n",
    "\n",
    "#### With nim-sum as an option\n"
   ]
  },
  {
   "cell_type": "code",
   "execution_count": 17,
   "metadata": {},
   "outputs": [],
   "source": [
    "\n",
    "def fitness(genome, NUM_MATCHES: int, NIM_SIZE: int, EVALUATION_STRATEGY: Callable, strategy: Callable, k=None):\n",
    "    # calculates the fitness through evaluate function\n",
    "    return evaluate(NUM_MATCHES, NIM_SIZE, EVALUATION_STRATEGY, strategy, k)\n",
    "\n",
    "\n",
    "def check_duplicates(genome, population):\n",
    "    # prevents from creating duplicates\n",
    "    population_genome = [p.genome for p in population]\n",
    "    return (genome in population_genome)\n",
    "\n",
    "\n",
    "def tournament(population, tournament_size=2):\n",
    "    # chooses two parents from the population\n",
    "    return max(random.choices(population, k=tournament_size), key=lambda i: i.fitness)\n",
    "\n",
    "\n",
    "def cross_over(g1, g2):\n",
    "    # normal crossover\n",
    "    cut = random.randint(0, len(g1))\n",
    "    return g1[:cut] + g2[cut:]\n",
    "\n",
    "\n",
    "def average_cross_over(g1, g2):\n",
    "    # another way of crossover, takes averages of genomes of two parents\n",
    "    g_new = tuple(round((g1[i] + g2[i])/2, 4) for i in range(len(g1)))\n",
    "    return g_new\n",
    "\n",
    "\n",
    "def mutation(g):\n",
    "    # normal mutation\n",
    "    point = random.randint(0, len(g) - 1)\n",
    "    return g[:point] + (round(random.random(), 4),) + g[point + 1:]\n",
    "\n",
    "\n",
    "def print_order_of_params(num):\n",
    "    # helps in displaying results\n",
    "    if num == 0:\n",
    "        print(\"genome=(longest_row, shortest_row, take_one, gabriele_strategy, pure_random_strategy, krzysztof_strategy, nim_sum)\")\n",
    "    else:\n",
    "        print(\"genome=(longest_row, shortest_row, take_one, gabriele_strategy, pure_random_strategy, krzysztof_strategy)\")\n"
   ]
  },
  {
   "cell_type": "markdown",
   "metadata": {},
   "source": [
    "#### Initial population\n"
   ]
  },
  {
   "cell_type": "code",
   "execution_count": 18,
   "metadata": {},
   "outputs": [],
   "source": [
    "POPULATION_SIZE = 10\n",
    "NUM_GENERATIONS = 100\n",
    "OFFSPRING_SIZE = 5\n",
    "\n",
    "NUM_MATCHES = 100\n",
    "NIM_SIZE = 5\n",
    "# EVALUATION_STRATEGY = pure_random\n",
    "EVALUATION_STRATEGY = optimal_strategy\n",
    "k = 3\n"
   ]
  },
  {
   "cell_type": "code",
   "execution_count": 19,
   "metadata": {},
   "outputs": [
    {
     "name": "stdout",
     "output_type": "stream",
     "text": [
      "genome=(longest_row, shortest_row, take_one, gabriele_strategy, pure_random_strategy, krzysztof_strategy, nim_sum)\n",
      "Individual(genome=(0.82, 0.17, 0.69, 0.31, 0.36, 0.8, 0.3), fitness=0.27)\n",
      "Individual(genome=(0.62, 0.26, 0.93, 0.13, 0.19, 0.9, 0.61), fitness=0.27)\n",
      "Individual(genome=(0.96, 0.46, 0.54, 0.44, 0.19, 0.97, 0.48), fitness=0.2)\n",
      "Individual(genome=(0.78, 0.52, 0.41, 0.87, 0.14, 0.73, 0.45), fitness=0.18)\n",
      "Individual(genome=(0.06, 0.27, 0.11, 0.81, 0.08, 0.44, 0.44), fitness=0.16)\n",
      "Individual(genome=(0.67, 0.36, 0.33, 0.05, 0.2, 0.45, 0.79), fitness=0.14)\n",
      "Individual(genome=(0.01, 0.78, 0.62, 0.49, 0.77, 0.25, 0.52), fitness=0.12)\n",
      "Individual(genome=(0.34, 0.54, 0.17, 0.33, 0.79, 0.22, 0.1), fitness=0.1)\n",
      "Individual(genome=(0.97, 0.9, 0.96, 0.94, 0.88, 0.46, 0.32), fitness=0.08)\n",
      "Individual(genome=(0.53, 0.86, 0.33, 0.18, 0.28, 0.06, 0.1), fitness=0.05)\n"
     ]
    }
   ],
   "source": [
    "population = list()\n",
    "Individual = namedtuple(\"Individual\", [\"genome\", \"fitness\"])\n",
    "\n",
    "i = 0\n",
    "while i < POPULATION_SIZE:\n",
    "    # genome is a tuple of probabilities of using: longest_row, shortest_row, take_one,\n",
    "    # gabriele_strategy, pure_random_strategy, krzysztof_strategy or nim_sum strategies\n",
    "    genome = tuple([round(random.random(), 2) for _ in range(7)])\n",
    "\n",
    "    # prevents from creating duplicates\n",
    "    if check_duplicates(genome, population):\n",
    "        i -= 1\n",
    "    else:\n",
    "        population.append(\n",
    "            Individual(\n",
    "                genome,\n",
    "                fitness(\n",
    "                    genome,\n",
    "                    NUM_MATCHES,\n",
    "                    NIM_SIZE,\n",
    "                    EVALUATION_STRATEGY,\n",
    "                    make_strategy(\n",
    "                        {\"longest_row\": genome[0], \"shortest_row\": genome[1], \"take_one\": genome[2],\n",
    "                         \"gabriele_strategy\": genome[3], \"pure_random_strategy\": genome[4], \"krzysztof_strategy\": genome[5], \"nim_sum\": genome[6]}),\n",
    "                    k\n",
    "                ),\n",
    "            )\n",
    "        )\n",
    "    i += 1\n",
    "\n",
    "population = sorted(population, key=lambda i: -i.fitness)[:POPULATION_SIZE]\n",
    "\n",
    "print_order_of_params(0)\n",
    "\n",
    "for p in population:\n",
    "    print(p)\n"
   ]
  },
  {
   "cell_type": "markdown",
   "metadata": {},
   "source": [
    "#### Generating offspring\n"
   ]
  },
  {
   "cell_type": "code",
   "execution_count": 20,
   "metadata": {},
   "outputs": [
    {
     "name": "stderr",
     "output_type": "stream",
     "text": [
      "100%|██████████| 100/100 [00:52<00:00,  1.92it/s]\n"
     ]
    }
   ],
   "source": [
    "for g in tqdm(range(NUM_GENERATIONS)):\n",
    "    offspring = list()\n",
    "    i = 0\n",
    "    while i < OFFSPRING_SIZE:\n",
    "\n",
    "        p1 = tournament(population)\n",
    "        p2 = tournament(population)\n",
    "\n",
    "        # randomly choose form of crossover\n",
    "        if random.random() < 0.4:\n",
    "            o = average_cross_over(p1.genome, p2.genome)\n",
    "        else:\n",
    "            o = cross_over(p1.genome, p2.genome)\n",
    "\n",
    "        # mutate\n",
    "        if random.random() < 0.5:\n",
    "            o = mutation(o)\n",
    "\n",
    "        # prevents from creating duplicates\n",
    "        if check_duplicates(o, population) or check_duplicates(o, offspring):\n",
    "            i -= 1\n",
    "        else:\n",
    "            f = fitness(\n",
    "                o,\n",
    "                NUM_MATCHES,\n",
    "                NIM_SIZE,\n",
    "                EVALUATION_STRATEGY,\n",
    "                make_strategy(\n",
    "                    {\"longest_row\": o[0], \"shortest_row\": o[1], \"take_one\": o[2],\n",
    "                     \"gabriele_strategy\": o[3], \"pure_random_strategy\": o[4], \"krzysztof_strategy\": o[5], \"nim_sum\": o[6]}),\n",
    "                k\n",
    "            )\n",
    "            offspring.append(Individual(o, f))\n",
    "        i += 1\n",
    "\n",
    "    population += offspring\n",
    "    population = sorted(population, key=lambda i: -i.fitness)[:POPULATION_SIZE]\n"
   ]
  },
  {
   "cell_type": "code",
   "execution_count": 21,
   "metadata": {},
   "outputs": [
    {
     "name": "stdout",
     "output_type": "stream",
     "text": [
      "genome=(longest_row, shortest_row, take_one, gabriele_strategy, pure_random_strategy, krzysztof_strategy, nim_sum)\n",
      "Individual(genome=(0.1066, 0.2136, 0.1131, 0.13, 0.0619, 0.97, 0.0345), fitness=0.61)\n",
      "Individual(genome=(0.2171, 0.2136, 0.1131, 0.13, 0.0659, 0.97, 0.0398), fitness=0.6)\n",
      "Individual(genome=(0.1965, 0.2238, 0.2169, 0.13, 0.0619, 0.97, 0.0345), fitness=0.56)\n",
      "Individual(genome=(0.0166, 0.2034, 0.0093, 0.13, 0.0779, 0.97, 0.0559), fitness=0.55)\n",
      "Individual(genome=(0.1965, 0.1692, 0.2169, 0.13, 0.0659, 0.97, 0.0398), fitness=0.55)\n",
      "Individual(genome=(0.1965, 0.1692, 0.2169, 0.13, 0.0619, 0.97, 0.0345), fitness=0.54)\n",
      "Individual(genome=(0.0166, 0.2034, 0.0093, 0.13, 0.0619, 0.97, 0.0345), fitness=0.54)\n",
      "Individual(genome=(0.2376, 0.2034, 0.0093, 0.13, 0.0699, 0.97, 0.0452), fitness=0.54)\n",
      "Individual(genome=(0.1721, 0.2085, 0.0612, 0.13, 0.0659, 0.97, 0.0398), fitness=0.54)\n",
      "Individual(genome=(0.1271, 0.2034, 0.0093, 0.13, 0.0699, 0.97, 0.0452), fitness=0.53)\n"
     ]
    }
   ],
   "source": [
    "print_order_of_params(0)\n",
    "\n",
    "for p in population:\n",
    "    print(p)\n"
   ]
  },
  {
   "cell_type": "markdown",
   "metadata": {},
   "source": [
    "## Evolution\n",
    "\n",
    "#### Without nim-sum\n"
   ]
  },
  {
   "cell_type": "markdown",
   "metadata": {},
   "source": [
    "#### Initial population\n"
   ]
  },
  {
   "cell_type": "code",
   "execution_count": 22,
   "metadata": {},
   "outputs": [],
   "source": [
    "POPULATION_SIZE = 10\n",
    "NUM_GENERATIONS = 100\n",
    "OFFSPRING_SIZE = 5\n",
    "\n",
    "NUM_MATCHES = 100\n",
    "NIM_SIZE = 5\n",
    "# EVALUATION_STRATEGY = pure_random\n",
    "EVALUATION_STRATEGY = optimal_strategy\n",
    "k = 3\n"
   ]
  },
  {
   "cell_type": "code",
   "execution_count": 23,
   "metadata": {},
   "outputs": [
    {
     "name": "stdout",
     "output_type": "stream",
     "text": [
      "genome=(longest_row, shortest_row, take_one, gabriele_strategy, pure_random_strategy, krzysztof_strategy)\n",
      "Individual(genome=(0.78, 0.74, 0.39, 0.0, 0.35, 0.94), fitness=0.26)\n",
      "Individual(genome=(0.39, 0.52, 0.02, 0.07, 0.28, 0.39), fitness=0.24)\n",
      "Individual(genome=(0.08, 0.56, 0.71, 0.29, 0.99, 0.99), fitness=0.19)\n",
      "Individual(genome=(0.5, 0.86, 0.17, 0.44, 0.64, 0.84), fitness=0.16)\n",
      "Individual(genome=(0.47, 0.35, 0.68, 0.71, 0.9, 0.73), fitness=0.15)\n",
      "Individual(genome=(0.15, 0.02, 0.91, 0.21, 0.92, 0.38), fitness=0.13)\n",
      "Individual(genome=(0.43, 0.48, 0.41, 0.62, 0.97, 0.61), fitness=0.13)\n",
      "Individual(genome=(0.42, 0.53, 0.0, 0.25, 0.3, 0.16), fitness=0.11)\n",
      "Individual(genome=(0.54, 0.04, 0.91, 0.14, 0.06, 0.18), fitness=0.09)\n",
      "Individual(genome=(0.78, 0.17, 0.7, 0.72, 0.81, 0.25), fitness=0.09)\n"
     ]
    }
   ],
   "source": [
    "population = list()\n",
    "Individual = namedtuple(\"Individual\", [\"genome\", \"fitness\"])\n",
    "\n",
    "i = 0\n",
    "while i < POPULATION_SIZE:\n",
    "    # genome is a tuple of probabilities of using: longest_row, shortest_row, take_one,\n",
    "    # gabriele_strategy, pure_random_strategy or krzysztof_strategy strategies\n",
    "    genome = tuple([round(random.random(), 2) for _ in range(6)])\n",
    "\n",
    "    # prevents from creating duplicates\n",
    "    if check_duplicates(genome, population):\n",
    "        i -= 1\n",
    "    else:\n",
    "        population.append(\n",
    "            Individual(\n",
    "                genome,\n",
    "                fitness(\n",
    "                    genome,\n",
    "                    NUM_MATCHES,\n",
    "                    NIM_SIZE,\n",
    "                    EVALUATION_STRATEGY,\n",
    "                    make_strategy(\n",
    "                        {\"longest_row\": genome[0], \"shortest_row\": genome[1], \"take_one\": genome[2],\n",
    "                         \"gabriele_strategy\": genome[3], \"pure_random_strategy\": genome[4], \"krzysztof_strategy\": genome[5]}),\n",
    "                    k\n",
    "                ),\n",
    "            )\n",
    "        )\n",
    "    i += 1\n",
    "\n",
    "population = sorted(population, key=lambda i: -i.fitness)[:POPULATION_SIZE]\n",
    "\n",
    "print_order_of_params(1)\n",
    "\n",
    "for p in population:\n",
    "    print(p)\n"
   ]
  },
  {
   "cell_type": "markdown",
   "metadata": {},
   "source": [
    "#### Generating offspring\n"
   ]
  },
  {
   "cell_type": "code",
   "execution_count": 24,
   "metadata": {},
   "outputs": [
    {
     "name": "stderr",
     "output_type": "stream",
     "text": [
      "100%|██████████| 100/100 [00:43<00:00,  2.29it/s]\n"
     ]
    }
   ],
   "source": [
    "for g in tqdm(range(NUM_GENERATIONS)):\n",
    "    offspring = list()\n",
    "    i = 0\n",
    "    while i < OFFSPRING_SIZE:\n",
    "\n",
    "        p1 = tournament(population)\n",
    "        p2 = tournament(population)\n",
    "\n",
    "        # randomly choose form of crossover\n",
    "        if random.random() < 0.4:\n",
    "            o = average_cross_over(p1.genome, p2.genome)\n",
    "        else:\n",
    "            o = cross_over(p1.genome, p2.genome)\n",
    "\n",
    "        # mutate\n",
    "        if random.random() < 0.5:\n",
    "            o = mutation(o)\n",
    "\n",
    "        # prevents from creating duplicates\n",
    "        if check_duplicates(o, population) or check_duplicates(o, offspring):\n",
    "            i -= 1\n",
    "        else:\n",
    "            f = fitness(\n",
    "                o,\n",
    "                NUM_MATCHES,\n",
    "                NIM_SIZE,\n",
    "                EVALUATION_STRATEGY,\n",
    "                make_strategy(\n",
    "                    {\"longest_row\": o[0], \"shortest_row\": o[1], \"take_one\": o[2],\n",
    "                     \"gabriele_strategy\": o[3], \"pure_random_strategy\": o[4], \"krzysztof_strategy\": o[5]}),\n",
    "                k\n",
    "            )\n",
    "            offspring.append(Individual(o, f))\n",
    "        i += 1\n",
    "\n",
    "    population += offspring\n",
    "    population = sorted(population, key=lambda i: -i.fitness)[:POPULATION_SIZE]\n"
   ]
  },
  {
   "cell_type": "code",
   "execution_count": 25,
   "metadata": {},
   "outputs": [
    {
     "name": "stdout",
     "output_type": "stream",
     "text": [
      "genome=(longest_row, shortest_row, take_one, gabriele_strategy, pure_random_strategy, krzysztof_strategy)\n",
      "Individual(genome=(0.0789, 0.1077, 0.0345, 0.0, 0.0716, 0.8746), fitness=0.75)\n",
      "Individual(genome=(0.0789, 0.1077, 0.0345, 0.0, 0.0341, 0.9777), fitness=0.75)\n",
      "Individual(genome=(0.0789, 0.1077, 0.0345, 0.0, 0.0341, 0.942), fitness=0.74)\n",
      "Individual(genome=(0.0781, 0.1077, 0.0345, 0.0, 0.0483, 0.9777), fitness=0.72)\n",
      "Individual(genome=(0.0781, 0.1077, 0.0823, 0.0, 0.06, 0.8746), fitness=0.71)\n",
      "Individual(genome=(0.0789, 0.1077, 0.0345, 0.0, 0.0483, 0.9777), fitness=0.71)\n",
      "Individual(genome=(0.0781, 0.1077, 0.0823, 0.0, 0.06, 0.767), fitness=0.71)\n",
      "Individual(genome=(0.0778, 0.1077, 0.1407, 0.0, 0.0483, 0.8746), fitness=0.7)\n",
      "Individual(genome=(0.08, 0.1077, 0.162, 0.0, 0.0483, 0.9496), fitness=0.7)\n",
      "Individual(genome=(0.0789, 0.1374, 0.0345, 0.0, 0.0483, 0.9777), fitness=0.7)\n"
     ]
    }
   ],
   "source": [
    "print_order_of_params(1)\n",
    "\n",
    "for p in population:\n",
    "    print(p)\n"
   ]
  },
  {
   "cell_type": "markdown",
   "metadata": {},
   "source": [
    "## Oversimplified match\n"
   ]
  },
  {
   "cell_type": "code",
   "execution_count": 26,
   "metadata": {},
   "outputs": [],
   "source": [
    "logging.getLogger().setLevel(logging.DEBUG)\n",
    "\n",
    "strategy = (pure_random, make_strategy(\n",
    "    {\"longest_row\": 0.5, \"shortest_row\": 0.5, \"take_one\": 0.5,\n",
    "     \"gabriele_strategy\": 0.5, \"pure_random_strategy\": 0.5, \"krzysztof_strategy\": 0.5, \"nim_sum\": 0.5}))\n",
    "\n",
    "nim = Nim(5, k)\n"
   ]
  },
  {
   "cell_type": "code",
   "execution_count": 27,
   "metadata": {},
   "outputs": [
    {
     "name": "stderr",
     "output_type": "stream",
     "text": [
      "DEBUG:root:status: Initial board  -> <1 3 5 7 9>\n",
      "DEBUG:root:status: After player 0 -> <1 3 5 4 9>\n",
      "DEBUG:root:status: After player 1 -> <1 3 5 4 6>\n",
      "DEBUG:root:status: After player 0 -> <1 3 5 4 5>\n",
      "DEBUG:root:status: After player 1 -> <0 3 5 4 5>\n",
      "DEBUG:root:status: After player 0 -> <0 3 5 2 5>\n",
      "DEBUG:root:status: After player 1 -> <0 3 5 1 5>\n",
      "DEBUG:root:status: After player 0 -> <0 3 2 1 5>\n",
      "DEBUG:root:status: After player 1 -> <0 2 2 1 5>\n",
      "DEBUG:root:status: After player 0 -> <0 2 0 1 5>\n",
      "DEBUG:root:status: After player 1 -> <0 2 0 0 5>\n",
      "DEBUG:root:status: After player 0 -> <0 1 0 0 5>\n",
      "DEBUG:root:status: After player 1 -> <0 0 0 0 5>\n",
      "DEBUG:root:status: After player 0 -> <0 0 0 0 2>\n",
      "DEBUG:root:status: After player 1 -> <0 0 0 0 0>\n",
      "INFO:root:status: Player 1 won!\n"
     ]
    }
   ],
   "source": [
    "logging.debug(f\"status: Initial board  -> {nim}\")\n",
    "player = 0\n",
    "while nim:\n",
    "    ply = strategy[player](nim)\n",
    "    nim.nimming(ply)\n",
    "    logging.debug(f\"status: After player {player} -> {nim}\")\n",
    "    player = 1 - player\n",
    "winner = 1 - player\n",
    "logging.info(f\"status: Player {winner} won!\")\n"
   ]
  }
 ],
 "metadata": {
  "kernelspec": {
   "display_name": "Python 3.10.2 64-bit",
   "language": "python",
   "name": "python3"
  },
  "language_info": {
   "codemirror_mode": {
    "name": "ipython",
    "version": 3
   },
   "file_extension": ".py",
   "mimetype": "text/x-python",
   "name": "python",
   "nbconvert_exporter": "python",
   "pygments_lexer": "ipython3",
   "version": "3.10.2"
  },
  "vscode": {
   "interpreter": {
    "hash": "369f2c481f4da34e4445cda3fffd2e751bd1c4d706f27375911949ba6bb62e1c"
   }
  }
 },
 "nbformat": 4,
 "nbformat_minor": 2
}
