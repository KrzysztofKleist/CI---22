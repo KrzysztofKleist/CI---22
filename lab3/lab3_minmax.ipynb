{
 "cells": [
  {
   "cell_type": "markdown",
   "metadata": {
    "pycharm": {
     "name": "#%%\n"
    }
   },
   "source": [
    "# Lab 3: Policy Search\n",
    "\n",
    "## Task3.3: An agent using minmax\n",
    "\n",
    "Code based on an example presented here: https://realpython.com/python-minimax-nim/#play-a-simplified-game-of-nim\n"
   ]
  },
  {
   "cell_type": "code",
   "execution_count": 1,
   "metadata": {},
   "outputs": [],
   "source": [
    "from typing import Callable\n",
    "from copy import deepcopy\n",
    "from operator import xor\n",
    "from itertools import accumulate\n",
    "import random\n",
    "from collections import namedtuple\n",
    "import logging\n",
    "from tqdm import tqdm\n",
    "from evolution_strategy import *\n",
    "from functools import cache\n"
   ]
  },
  {
   "cell_type": "markdown",
   "metadata": {},
   "source": [
    "## The _Nim_ and _Nimply_ classes\n"
   ]
  },
  {
   "cell_type": "code",
   "execution_count": 2,
   "metadata": {},
   "outputs": [],
   "source": [
    "from Nim import Nimply\n",
    "from Nim import Nim\n"
   ]
  },
  {
   "cell_type": "markdown",
   "metadata": {},
   "source": [
    "## Sample (and silly) startegies\n"
   ]
  },
  {
   "cell_type": "code",
   "execution_count": 3,
   "metadata": {},
   "outputs": [],
   "source": [
    "# pure_random from the lecture\n",
    "def pure_random(state: Nim) -> Nimply:\n",
    "    row = random.choice([r for r, c in enumerate(state.rows) if c > 0])\n",
    "    if state.k == None:\n",
    "        num_objects = random.randint(1, state.rows[row])\n",
    "    elif state.rows[row] < state.k:\n",
    "        num_objects = random.randint(1, state.rows[row])\n",
    "    else:\n",
    "        num_objects = random.randint(1, state.k)\n",
    "    return Nimply(row, num_objects)"
   ]
  },
  {
   "cell_type": "markdown",
   "metadata": {},
   "source": [
    "## Optimal strategy"
   ]
  },
  {
   "cell_type": "code",
   "execution_count": 4,
   "metadata": {},
   "outputs": [],
   "source": [
    "# optimal strategy using nim sum (a bit different implementation than the lecture)\n",
    "def nim_sum(state: Nim) -> int:\n",
    "    *_, result = accumulate(state.rows, xor)\n",
    "    return result\n",
    "\n",
    "\n",
    "def optimal_strategy(state: Nim) -> Nimply:\n",
    "    # retrieve the possible moves\n",
    "    possible_moves = [(r, o) for r, c in enumerate(state.rows)\n",
    "                      for o in range(1, c + 1)]\n",
    "    if state.k != None:\n",
    "        possible_moves = [p for p in possible_moves if p[1] <= state.k]\n",
    "\n",
    "    # check the values of nim_sum after all possible moves\n",
    "    possible_moves_optimal = list()\n",
    "\n",
    "    for move in possible_moves:\n",
    "        temp_state = deepcopy(state)\n",
    "        temp_state.nimming(Nimply(move[0], move[1]))\n",
    "        if nim_sum(temp_state) == 0:\n",
    "            possible_moves_optimal.append(move)\n",
    "\n",
    "    if possible_moves_optimal == []:\n",
    "        chosen_move = random.choice(possible_moves)\n",
    "    else:\n",
    "        chosen_move = random.choice(possible_moves_optimal)\n",
    "\n",
    "    return Nimply(chosen_move[0], chosen_move[1])"
   ]
  },
  {
   "cell_type": "markdown",
   "metadata": {},
   "source": [
    "## MinMax\n",
    "\n",
    "First player will be min (-1, equivalent to max_turn = FALSE), second max(1, equivalent to max_turn = TRUE)."
   ]
  },
  {
   "cell_type": "code",
   "execution_count": 5,
   "metadata": {},
   "outputs": [],
   "source": [
    "def possible_moves(state: Nim):\n",
    "    # retrieve the possible moves\n",
    "    possible_moves = [(r, o) for r, c in enumerate(state.rows)\n",
    "                      for o in range(1, c + 1)]\n",
    "    # possible moves if k was implemented\n",
    "    if state.k != None:\n",
    "        possible_moves = [p for p in possible_moves if p[1] <= state.k]\n",
    "\n",
    "    return possible_moves\n",
    "\n",
    "def possible_new_states(state: Nim):\n",
    "    # returns a list of outcome of all possible moves\n",
    "    new_states_lists = []\n",
    "    for p in possible_moves(state):\n",
    "        temp_state = deepcopy(state)\n",
    "        temp_state.nimming(Nimply(p[0], p[1]))\n",
    "        new_states_lists.append(temp_state)\n",
    "    return new_states_lists\n"
   ]
  },
  {
   "cell_type": "code",
   "execution_count": 6,
   "metadata": {},
   "outputs": [],
   "source": [
    "def ending_position(state: Nim):\n",
    "    return (sum(r for r in state.rows) == 0)\n"
   ]
  },
  {
   "cell_type": "code",
   "execution_count": 7,
   "metadata": {},
   "outputs": [],
   "source": [
    "@cache\n",
    "def minmax(state: Nim, max_turn):\n",
    "    if ending_position(state):\n",
    "        # end of a game\n",
    "        return -1 if max_turn else 1\n",
    "\n",
    "    possible_states = possible_new_states(state)\n",
    "\n",
    "    if max_turn:\n",
    "        scores = [minmax(new_state, max_turn=False)\n",
    "                  for new_state in possible_states]\n",
    "        return max(scores)\n",
    "    else:\n",
    "        scores = [minmax(new_state, max_turn=True)\n",
    "                  for new_state in possible_states]\n",
    "        return min(scores)\n"
   ]
  },
  {
   "cell_type": "code",
   "execution_count": 8,
   "metadata": {},
   "outputs": [],
   "source": [
    "def minmax_best_move(state: Nim):\n",
    "    for move in possible_moves(state):\n",
    "        temp_nim = deepcopy(state)\n",
    "        temp_nim.nimming(Nimply(move[0], move[1]))\n",
    "        score = minmax(temp_nim, max_turn=False)\n",
    "        if score > 0:\n",
    "            break\n",
    "    return Nimply(move[0], move[1])\n",
    "    "
   ]
  },
  {
   "cell_type": "markdown",
   "metadata": {},
   "source": [
    "## Oversimplified match\n"
   ]
  },
  {
   "cell_type": "code",
   "execution_count": 9,
   "metadata": {},
   "outputs": [],
   "source": [
    "logging.getLogger().setLevel(logging.DEBUG)\n",
    "\n",
    "# strategy = (pure_random, minmax_best_move)\n",
    "# strategy = (minmax_best_move, pure_random)\n",
    "strategy = (optimal_strategy, minmax_best_move)\n",
    "# strategy = (minmax_best_move, optimal_strategy)\n",
    "\n",
    "nim = Nim(3)"
   ]
  },
  {
   "cell_type": "code",
   "execution_count": 10,
   "metadata": {},
   "outputs": [
    {
     "name": "stderr",
     "output_type": "stream",
     "text": [
      "DEBUG:root:status: Initial board  -> <1 3 5>\n",
      "DEBUG:root:status: After player 0 -> <1 3 2>\n",
      "DEBUG:root:status: After player 1 -> <1 3 0>\n",
      "DEBUG:root:status: After player 0 -> <1 1 0>\n",
      "DEBUG:root:status: After player 1 -> <1 0 0>\n",
      "DEBUG:root:status: After player 0 -> <0 0 0>\n",
      "INFO:root:status: Player 0 won!\n"
     ]
    }
   ],
   "source": [
    "logging.debug(f\"status: Initial board  -> {nim}\")\n",
    "player = 0\n",
    "while nim:\n",
    "    ply = strategy[player](nim)\n",
    "    nim.nimming(ply)\n",
    "    logging.debug(f\"status: After player {player} -> {nim}\")\n",
    "    player = 1 - player\n",
    "winner = 1 - player\n",
    "logging.info(f\"status: Player {winner} won!\")"
   ]
  },
  {
   "cell_type": "markdown",
   "metadata": {},
   "source": [
    "## Evaluate"
   ]
  },
  {
   "cell_type": "code",
   "execution_count": 11,
   "metadata": {},
   "outputs": [],
   "source": [
    "# games are ran NUM_MATCHES times to check the average result\n",
    "def evaluate(NUM_MATCHES: int, NIM_SIZE: int, strategy0: Callable, strategy1: Callable, k=None) -> float:\n",
    "    opponent = (strategy0, strategy1)\n",
    "    won = 0\n",
    "\n",
    "    for m in range(NUM_MATCHES):\n",
    "        nim = Nim(NIM_SIZE, k)\n",
    "        player = 0\n",
    "        while nim:\n",
    "            ply = opponent[player](nim)\n",
    "            nim.nimming(ply)\n",
    "            player = 1 - player\n",
    "        if player == 0:\n",
    "            won += 1\n",
    "    return won / NUM_MATCHES\n"
   ]
  },
  {
   "cell_type": "code",
   "execution_count": 12,
   "metadata": {},
   "outputs": [],
   "source": [
    "NUM_MATCHES = 100\n",
    "NIM_SIZE = 3\n",
    "k = None\n"
   ]
  },
  {
   "cell_type": "code",
   "execution_count": 13,
   "metadata": {},
   "outputs": [
    {
     "name": "stdout",
     "output_type": "stream",
     "text": [
      "MinMax against pure_random\n",
      "MinMax starts, win rate: 0.99\n",
      "pure_random starts, win rate: 1.0\n"
     ]
    }
   ],
   "source": [
    "# minmax against pure_random\n",
    "# minmax starts\n",
    "print(\"MinMax against pure_random\")\n",
    "print(\"MinMax starts, win rate:\", evaluate(NUM_MATCHES, NIM_SIZE, pure_random, minmax_best_move, k))\n",
    "# pure random starts\n",
    "print(\"pure_random starts, win rate:\", 1 - evaluate(NUM_MATCHES, NIM_SIZE, minmax_best_move, pure_random, k))"
   ]
  },
  {
   "cell_type": "code",
   "execution_count": 14,
   "metadata": {},
   "outputs": [
    {
     "name": "stdout",
     "output_type": "stream",
     "text": [
      "MinMax against optimal_strategy\n",
      "MinMax starts, win rate: 0.0\n",
      "optimal_strategy starts, win rate: 1.0\n"
     ]
    }
   ],
   "source": [
    "# minmax against optimal_strategy\n",
    "# minmax starts\n",
    "print(\"MinMax against optimal_strategy\")\n",
    "print(\"MinMax starts, win rate:\", evaluate(NUM_MATCHES, NIM_SIZE, optimal_strategy, minmax_best_move, k))\n",
    "# pure random starts\n",
    "print(\"optimal_strategy starts, win rate:\", 1 - evaluate(NUM_MATCHES, NIM_SIZE, minmax_best_move, optimal_strategy, k))"
   ]
  },
  {
   "cell_type": "markdown",
   "metadata": {},
   "source": [
    "## Evolution vs MinMax\n",
    "\n",
    "#### make_strategy without nim-sum"
   ]
  },
  {
   "cell_type": "markdown",
   "metadata": {},
   "source": [
    "#### Initial population"
   ]
  },
  {
   "cell_type": "code",
   "execution_count": 15,
   "metadata": {},
   "outputs": [],
   "source": [
    "POPULATION_SIZE = 10\n",
    "NUM_GENERATIONS = 100\n",
    "OFFSPRING_SIZE = 5\n",
    "\n",
    "NUM_MATCHES = 100\n",
    "NIM_SIZE = 3\n",
    "EVALUATION_STRATEGY = optimal_strategy\n",
    "k = None"
   ]
  },
  {
   "cell_type": "code",
   "execution_count": 16,
   "metadata": {},
   "outputs": [
    {
     "name": "stdout",
     "output_type": "stream",
     "text": [
      "genome=(longest_row, shortest_row, take_one, gabriele_strategy, pure_random_strategy, krzysztof_strategy)\n",
      "Individual(genome=(0.36, 0.35, 0.01, 0.06, 0.23, 0.27), fitness=0.18)\n",
      "Individual(genome=(0.59, 0.89, 0.25, 0.33, 0.95, 0.55), fitness=0.11)\n",
      "Individual(genome=(0.86, 0.19, 0.39, 0.91, 0.73, 0.75), fitness=0.08)\n",
      "Individual(genome=(0.95, 0.6, 0.89, 0.5, 0.18, 0.38), fitness=0.08)\n",
      "Individual(genome=(0.88, 0.34, 0.47, 0.61, 0.86, 0.1), fitness=0.06)\n",
      "Individual(genome=(0.89, 0.78, 0.32, 0.76, 0.3, 0.52), fitness=0.06)\n",
      "Individual(genome=(0.08, 0.73, 0.91, 0.51, 0.21, 0.14), fitness=0.05)\n",
      "Individual(genome=(0.2, 0.27, 0.32, 0.34, 0.36, 0.13), fitness=0.03)\n",
      "Individual(genome=(0.1, 0.94, 0.53, 0.49, 0.31, 0.13), fitness=0.03)\n",
      "Individual(genome=(0.17, 0.84, 0.62, 0.15, 0.61, 0.13), fitness=0.01)\n"
     ]
    }
   ],
   "source": [
    "population = list()\n",
    "Individual = namedtuple(\"Individual\", [\"genome\", \"fitness\"])\n",
    "\n",
    "i = 0\n",
    "while i < POPULATION_SIZE:\n",
    "    # genome is a tuple of probabilities of using: longest_row, shortest_row, take_one,\n",
    "    # gabriele_strategy, pure_random_strategy or krzysztof_strategy strategies\n",
    "    genome = tuple([round(random.random(), 2) for _ in range(6)])\n",
    "\n",
    "    # prevents from creating duplicates\n",
    "    if check_duplicates(genome, population):\n",
    "        i -= 1\n",
    "    else:\n",
    "        population.append(\n",
    "            Individual(\n",
    "                genome,\n",
    "                fitness(\n",
    "                    genome,\n",
    "                    NUM_MATCHES,\n",
    "                    NIM_SIZE,\n",
    "                    EVALUATION_STRATEGY,\n",
    "                    make_strategy(\n",
    "                        {\"longest_row\": genome[0], \"shortest_row\": genome[1], \"take_one\": genome[2],\n",
    "                         \"gabriele_strategy\": genome[3], \"pure_random_strategy\": genome[4], \"krzysztof_strategy\": genome[5]}),\n",
    "                    k\n",
    "                ),\n",
    "            )\n",
    "        )\n",
    "    i += 1\n",
    "\n",
    "population = sorted(population, key=lambda i: -i.fitness)[:POPULATION_SIZE]\n",
    "\n",
    "print_order_of_params(1)\n",
    "\n",
    "for p in population:\n",
    "    print(p)"
   ]
  },
  {
   "cell_type": "code",
   "execution_count": 17,
   "metadata": {},
   "outputs": [
    {
     "name": "stderr",
     "output_type": "stream",
     "text": [
      "100%|██████████| 100/100 [00:10<00:00,  9.10it/s]\n"
     ]
    }
   ],
   "source": [
    "for g in tqdm(range(NUM_GENERATIONS)):\n",
    "    offspring = list()\n",
    "    i = 0\n",
    "    while i < OFFSPRING_SIZE:\n",
    "\n",
    "        p1 = tournament(population)\n",
    "        p2 = tournament(population)\n",
    "\n",
    "        # randomly choose form of crossover\n",
    "        if random.random() < 0.4:\n",
    "            o = average_cross_over(p1.genome, p2.genome)\n",
    "        else:\n",
    "            o = cross_over(p1.genome, p2.genome)\n",
    "\n",
    "        # mutate\n",
    "        if random.random() < 0.5:\n",
    "            o = mutation(o)\n",
    "\n",
    "        # prevents from creating duplicates\n",
    "        if check_duplicates(o, population) or check_duplicates(o, offspring):\n",
    "            i -= 1\n",
    "        else:\n",
    "            f = fitness(\n",
    "                o,\n",
    "                NUM_MATCHES,\n",
    "                NIM_SIZE,\n",
    "                EVALUATION_STRATEGY,\n",
    "                make_strategy(\n",
    "                    {\"longest_row\": o[0], \"shortest_row\": o[1], \"take_one\": o[2],\n",
    "                     \"gabriele_strategy\": o[3], \"pure_random_strategy\": o[4], \"krzysztof_strategy\": o[5]}),\n",
    "                k\n",
    "            )\n",
    "            offspring.append(Individual(o, f))\n",
    "        i += 1\n",
    "\n",
    "    population += offspring\n",
    "    population = sorted(population, key=lambda i: -i.fitness)[:POPULATION_SIZE]\n"
   ]
  },
  {
   "cell_type": "code",
   "execution_count": 18,
   "metadata": {},
   "outputs": [
    {
     "name": "stdout",
     "output_type": "stream",
     "text": [
      "genome=(longest_row, shortest_row, take_one, gabriele_strategy, pure_random_strategy, krzysztof_strategy)\n",
      "Individual(genome=(0.2232, 0.0695, 0.002, 0.0138, 0.23, 0.9332), fitness=0.61)\n",
      "Individual(genome=(0.2089, 0.0695, 0.0474, 0.0138, 0.23, 0.9332), fitness=0.59)\n",
      "Individual(genome=(0.0488, 0.0107, 0.1045, 0.06, 0.23, 0.8884), fitness=0.59)\n",
      "Individual(genome=(0.1658, 0.2458, 0.0809, 0.06, 0.23, 0.9235), fitness=0.58)\n",
      "Individual(genome=(0.2089, 0.0695, 0.002, 0.0138, 0.23, 0.9332), fitness=0.58)\n",
      "Individual(genome=(0.2429, 0.2914, 0.01, 0.06, 0.23, 0.8884), fitness=0.57)\n",
      "Individual(genome=(0.2232, 0.0107, 0.002, 0.0138, 0.23, 0.9332), fitness=0.57)\n",
      "Individual(genome=(0.2232, 0.0107, 0.002, 0.06, 0.23, 0.943), fitness=0.56)\n",
      "Individual(genome=(0.2232, 0.0107, 0.002, 0.06, 0.23, 0.8884), fitness=0.56)\n",
      "Individual(genome=(0.2232, 0.0107, 0.1045, 0.06, 0.23, 0.8884), fitness=0.55)\n"
     ]
    }
   ],
   "source": [
    "print_order_of_params(1)\n",
    "\n",
    "for p in population:\n",
    "    print(p)\n"
   ]
  },
  {
   "cell_type": "markdown",
   "metadata": {},
   "source": [
    "## MinMax with Alpha-Beta pruning"
   ]
  },
  {
   "cell_type": "code",
   "execution_count": 19,
   "metadata": {},
   "outputs": [],
   "source": [
    "@cache\n",
    "def minmax_alphabeta(state: Nim, max_turn, alpha=-1, beta=1):\n",
    "    # minmax with alphabeta pruning\n",
    "    # if (score := evaluate_alphabeta(state, max_turn)) is not None:\n",
    "    #     return score\n",
    "    if ending_position(state):\n",
    "        # end of a game\n",
    "        return -1 if max_turn else 1\n",
    "\n",
    "    scores = []\n",
    "    for new_state in possible_new_states(state):\n",
    "        scores.append(\n",
    "            score := minmax_alphabeta(new_state, not max_turn, alpha, beta)\n",
    "        )\n",
    "        if max_turn:\n",
    "            alpha = max(alpha, score)\n",
    "        else:\n",
    "            beta = min(beta, score)\n",
    "        if beta <= alpha:\n",
    "            break\n",
    "    return (max if max_turn else min)(scores)\n",
    "\n",
    "# possible_new_states and ending_move are the same for both versions of minmax\n",
    "\n",
    "def minmax_best_move_alphabeta(state: Nim):\n",
    "    for move in possible_moves(state):\n",
    "        temp_nim = deepcopy(state)\n",
    "        temp_nim.nimming(Nimply(move[0], move[1]))\n",
    "        score = minmax_alphabeta(temp_nim, max_turn=False)\n",
    "        if score > 0:\n",
    "            break\n",
    "    return Nimply(move[0], move[1])\n"
   ]
  },
  {
   "cell_type": "markdown",
   "metadata": {},
   "source": [
    "## Oversimplified match\n",
    "#### Alpha-Beta pruning"
   ]
  },
  {
   "cell_type": "code",
   "execution_count": 20,
   "metadata": {},
   "outputs": [],
   "source": [
    "logging.getLogger().setLevel(logging.DEBUG)\n",
    "\n",
    "# strategy = (pure_random, minmax_best_move_alphabeta)\n",
    "# strategy = (minmax_best_move_alphabeta, pure_random)\n",
    "strategy = (optimal_strategy, minmax_best_move_alphabeta)\n",
    "# strategy = (minmax_best_move_alphabeta, optimal_strategy)\n",
    "\n",
    "nim = Nim(3)"
   ]
  },
  {
   "cell_type": "code",
   "execution_count": 21,
   "metadata": {},
   "outputs": [
    {
     "name": "stderr",
     "output_type": "stream",
     "text": [
      "DEBUG:root:status: Initial board  -> <1 3 5>\n",
      "DEBUG:root:status: After player 0 -> <1 3 2>\n",
      "DEBUG:root:status: After player 1 -> <1 3 0>\n",
      "DEBUG:root:status: After player 0 -> <1 1 0>\n",
      "DEBUG:root:status: After player 1 -> <1 0 0>\n",
      "DEBUG:root:status: After player 0 -> <0 0 0>\n",
      "INFO:root:status: Player 0 won!\n"
     ]
    }
   ],
   "source": [
    "logging.debug(f\"status: Initial board  -> {nim}\")\n",
    "player = 0\n",
    "while nim:\n",
    "    ply = strategy[player](nim)\n",
    "    nim.nimming(ply)\n",
    "    logging.debug(f\"status: After player {player} -> {nim}\")\n",
    "    player = 1 - player\n",
    "winner = 1 - player\n",
    "logging.info(f\"status: Player {winner} won!\")"
   ]
  },
  {
   "cell_type": "markdown",
   "metadata": {},
   "source": [
    "## Evaluate\n",
    "#### Alpha-Beta pruning"
   ]
  },
  {
   "cell_type": "code",
   "execution_count": 22,
   "metadata": {},
   "outputs": [],
   "source": [
    "NUM_MATCHES = 100\n",
    "NIM_SIZE = 3\n",
    "k = None"
   ]
  },
  {
   "cell_type": "code",
   "execution_count": 23,
   "metadata": {},
   "outputs": [
    {
     "name": "stdout",
     "output_type": "stream",
     "text": [
      "MinMax against pure_random\n",
      "MinMax starts, win rate: 0.99\n",
      "pure_random starts, win rate: 1.0\n"
     ]
    }
   ],
   "source": [
    "# minmax against pure_random\n",
    "# minmax starts\n",
    "print(\"MinMax against pure_random\")\n",
    "print(\"MinMax starts, win rate:\", evaluate(NUM_MATCHES, NIM_SIZE, pure_random, minmax_best_move, k))\n",
    "# pure random starts\n",
    "print(\"pure_random starts, win rate:\", 1 - evaluate(NUM_MATCHES, NIM_SIZE, minmax_best_move, pure_random, k))"
   ]
  },
  {
   "cell_type": "code",
   "execution_count": 24,
   "metadata": {},
   "outputs": [
    {
     "name": "stdout",
     "output_type": "stream",
     "text": [
      "MinMax against optimal_strategy\n",
      "MinMax starts, win rate: 0.0\n",
      "optimal_strategy starts, win rate: 1.0\n"
     ]
    }
   ],
   "source": [
    "# minmax against optimal_strategy\n",
    "# minmax starts\n",
    "print(\"MinMax against optimal_strategy\")\n",
    "print(\"MinMax starts, win rate:\", evaluate(NUM_MATCHES, NIM_SIZE, optimal_strategy, minmax_best_move, k))\n",
    "# pure random starts\n",
    "print(\"optimal_strategy starts, win rate:\", 1 - evaluate(NUM_MATCHES, NIM_SIZE, minmax_best_move, optimal_strategy, k))"
   ]
  },
  {
   "cell_type": "markdown",
   "metadata": {},
   "source": [
    "#### Evolution of Alpha-Beta pruned version of MinMax is not continued because time of execusion is exactly the same as in basic MinMax\n",
    "The reason for that may be obviosly also wrong implementation"
   ]
  },
  {
   "cell_type": "code",
   "execution_count": null,
   "metadata": {},
   "outputs": [],
   "source": []
  }
 ],
 "metadata": {
  "kernelspec": {
   "display_name": "Python 3.10.2 64-bit",
   "language": "python",
   "name": "python3"
  },
  "language_info": {
   "codemirror_mode": {
    "name": "ipython",
    "version": 3
   },
   "file_extension": ".py",
   "mimetype": "text/x-python",
   "name": "python",
   "nbconvert_exporter": "python",
   "pygments_lexer": "ipython3",
   "version": "3.10.2"
  },
  "vscode": {
   "interpreter": {
    "hash": "369f2c481f4da34e4445cda3fffd2e751bd1c4d706f27375911949ba6bb62e1c"
   }
  }
 },
 "nbformat": 4,
 "nbformat_minor": 2
}
