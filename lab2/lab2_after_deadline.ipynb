{
 "cells": [
  {
   "cell_type": "code",
   "execution_count": 1,
   "metadata": {},
   "outputs": [],
   "source": [
    "import logging\n",
    "import random\n",
    "from copy import copy\n",
    "from collections import namedtuple\n",
    "from matplotlib import pyplot as plt"
   ]
  },
  {
   "cell_type": "markdown",
   "metadata": {},
   "source": [
    "## Problem instances generator"
   ]
  },
  {
   "cell_type": "code",
   "execution_count": 2,
   "metadata": {},
   "outputs": [],
   "source": [
    "def problem(N, seed=42):\n",
    "    \"\"\"Creates an instance of the problem\"\"\"\n",
    "\n",
    "    random.seed(seed)\n",
    "    return [\n",
    "        list(set(random.randint(0, N - 1) for n in range(random.randint(N // 5, N // 2))))\n",
    "        for n in range(random.randint(N, N * 5))\n",
    "    ]"
   ]
  },
  {
   "cell_type": "markdown",
   "metadata": {},
   "source": [
    "## Genetic Algorithm"
   ]
  },
  {
   "cell_type": "code",
   "execution_count": 3,
   "metadata": {},
   "outputs": [],
   "source": [
    "N = 5\n",
    "all_lists = problem(N)\n",
    "\n",
    "PROBLEM_SIZE = len(all_lists)\n",
    "POPULATION_SIZE = 20\n",
    "OFFSPRING_SIZE = 30\n",
    "\n",
    "NUM_GENERATIONS = 10000\n",
    "\n",
    "GOAL = set(range(N))"
   ]
  },
  {
   "cell_type": "code",
   "execution_count": 4,
   "metadata": {},
   "outputs": [],
   "source": [
    "def flatten(l):\n",
    "    return [item for sublist in l for item in sublist]\n",
    "\n",
    "def fitness(genome, all_lists):\n",
    "    x = list()\n",
    "    for i, g in enumerate(genome):\n",
    "        x.append(g * all_lists[i])\n",
    "    return(1 - int(set(flatten(x)) == GOAL), sum(len(_) for _ in x))\n",
    "\n",
    "def tournament(population, tournament_size=2):\n",
    "    return max(random.choices(population, k=tournament_size), key=lambda i: i.fitness)\n",
    "\n",
    "def cross_over(g1, g2):\n",
    "    cut = random.randint(0, PROBLEM_SIZE)\n",
    "    return g1[:cut] + g2[cut:]\n",
    "\n",
    "def mutation(g):\n",
    "    point = random.randint(0, PROBLEM_SIZE - 1)\n",
    "    return g[:point] + (1 - g[point],) + g[point + 1 :] \n",
    "\n",
    "def check_duplicates(genome, population):\n",
    "    population_genome = [p.genome for p in population]\n",
    "    return(genome in population_genome)\n",
    "\n",
    "def print_sol(genome, all_lists):\n",
    "    sol = list()\n",
    "    for i, g in enumerate(genome):\n",
    "        sol.append(g * all_lists[i])\n",
    "    return [s for s in sol if s != []]"
   ]
  },
  {
   "cell_type": "markdown",
   "metadata": {},
   "source": [
    "## Initial Population"
   ]
  },
  {
   "cell_type": "code",
   "execution_count": 5,
   "metadata": {},
   "outputs": [
    {
     "name": "stdout",
     "output_type": "stream",
     "text": [
      "(1, 0, 0, 1, 0, 1, 1, 1, 1, 0, 0, 0, 1, 0, 1, 1, 1, 0, 0, 0, 1, 1, 0, 1, 0)\n",
      "(0, 0, 1, 0, 1, 1, 0, 0, 0, 0, 1, 1, 0, 1, 1, 1, 1, 1, 0, 1, 0, 0, 0, 0, 1)\n",
      "(1, 0, 0, 1, 0, 0, 1, 0, 1, 0, 1, 1, 0, 1, 1, 0, 1, 1, 0, 0, 1, 1, 0, 0, 1)\n",
      "(1, 1, 1, 1, 0, 1, 1, 1, 0, 1, 0, 0, 1, 1, 0, 0, 0, 0, 0, 1, 1, 1, 1, 0, 1)\n",
      "(1, 1, 1, 1, 1, 1, 1, 1, 0, 1, 1, 0, 0, 1, 1, 0, 1, 0, 0, 1, 1, 1, 0, 0, 0)\n",
      "(0, 0, 1, 1, 1, 0, 0, 1, 1, 1, 1, 0, 1, 0, 1, 0, 0, 1, 1, 0, 1, 1, 1, 1, 1)\n",
      "(1, 0, 0, 0, 1, 0, 1, 1, 0, 1, 0, 0, 0, 0, 0, 0, 1, 1, 0, 1, 1, 1, 0, 1, 1)\n",
      "(0, 1, 1, 1, 1, 1, 1, 1, 0, 1, 1, 1, 1, 0, 0, 0, 1, 0, 1, 0, 0, 1, 0, 0, 0)\n",
      "(1, 1, 0, 1, 1, 1, 0, 1, 0, 1, 1, 0, 0, 1, 0, 0, 1, 0, 1, 1, 0, 1, 1, 1, 0)\n",
      "(0, 1, 0, 1, 0, 0, 0, 1, 1, 0, 0, 1, 1, 0, 1, 0, 1, 0, 0, 1, 1, 1, 1, 1, 0)\n",
      "(1, 0, 1, 1, 0, 0, 1, 0, 1, 1, 1, 0, 0, 1, 1, 1, 1, 0, 1, 1, 0, 0, 1, 0, 1)\n",
      "(1, 0, 1, 0, 1, 1, 0, 0, 0, 1, 1, 1, 1, 0, 0, 0, 1, 0, 0, 0, 0, 1, 1, 0, 1)\n",
      "(0, 1, 1, 0, 0, 0, 0, 1, 0, 1, 0, 1, 0, 1, 1, 0, 0, 1, 0, 0, 1, 0, 0, 0, 0)\n",
      "(0, 0, 1, 1, 0, 0, 1, 0, 0, 1, 0, 0, 1, 0, 0, 0, 0, 0, 1, 0, 1, 1, 0, 0, 1)\n",
      "(1, 0, 1, 1, 1, 1, 1, 1, 0, 1, 0, 0, 1, 0, 0, 0, 1, 1, 1, 1, 0, 1, 1, 0, 1)\n",
      "(1, 1, 0, 1, 0, 0, 0, 0, 0, 1, 0, 0, 0, 1, 0, 0, 1, 0, 0, 1, 0, 1, 0, 0, 0)\n",
      "(1, 1, 1, 1, 0, 1, 1, 1, 0, 0, 0, 0, 0, 1, 1, 0, 0, 1, 0, 0, 1, 0, 0, 0, 0)\n",
      "(1, 0, 1, 0, 0, 0, 1, 0, 0, 0, 1, 0, 1, 1, 0, 1, 1, 0, 1, 0, 1, 1, 0, 0, 0)\n",
      "(1, 0, 0, 0, 0, 0, 0, 0, 1, 0, 1, 1, 0, 1, 1, 1, 1, 1, 1, 1, 1, 1, 1, 0, 1)\n",
      "(1, 0, 0, 0, 1, 1, 1, 0, 1, 1, 0, 0, 0, 1, 1, 1, 1, 0, 1, 1, 0, 0, 0, 1, 0)\n"
     ]
    }
   ],
   "source": [
    "population = list()\n",
    "Individual = namedtuple(\"Individual\", [\"genome\", \"fitness\"])\n",
    "\n",
    "i = 0\n",
    "while i < POPULATION_SIZE:\n",
    "    genome = tuple([random.choice([1, 0]) for _ in range(PROBLEM_SIZE)])\n",
    "    \n",
    "    if check_duplicates(genome, population):\n",
    "        i -= 1\n",
    "    else:\n",
    "        population.append(Individual(genome, fitness(genome, all_lists))) \n",
    "    i += 1\n",
    "       \n",
    "\n",
    "for p in population:\n",
    "    print(p.genome)"
   ]
  },
  {
   "cell_type": "markdown",
   "metadata": {},
   "source": [
    "## Evolution"
   ]
  },
  {
   "cell_type": "code",
   "execution_count": 6,
   "metadata": {},
   "outputs": [
    {
     "name": "stdout",
     "output_type": "stream",
     "text": [
      "N = 5 | w = 5  | num.gen. = 17\n"
     ]
    }
   ],
   "source": [
    "fitness_log = [(0, i.fitness) for i in population]\n",
    "best_res_log = [(0,(sorted(population, key = lambda i: i.fitness)[0])[1])]\n",
    "\n",
    "for g in range(NUM_GENERATIONS):\n",
    "    offspring = list()\n",
    "    i = 0\n",
    "    while i < OFFSPRING_SIZE:\n",
    "        \n",
    "        if random.random() < 0.3:\n",
    "            p = tournament(population)\n",
    "            o = mutation(p.genome)\n",
    "            #o = mutation(o)\n",
    "        else:\n",
    "            p1 = tournament(population)\n",
    "            p2 = tournament(population)\n",
    "            o = cross_over(p1.genome, p2.genome)\n",
    "        \n",
    "        if check_duplicates(o, population) or check_duplicates(o, offspring):\n",
    "            i -= 1\n",
    "        else:\n",
    "            f = fitness(o, all_lists)\n",
    "            fitness_log.append((g + 1, f))\n",
    "            offspring.append(Individual(o, f))\n",
    "        i += 1\n",
    "\n",
    "    population += offspring\n",
    "    population = sorted(population, key = lambda i: i.fitness)[:POPULATION_SIZE]\n",
    "    best_res_log.append((g+1, population[0][1]))  \n",
    "    if population[0][1] == (0, N):\n",
    "        break\n",
    "\n",
    "w = population[0][1][1]\n",
    "print(\"N =\", N, \"| w =\", w, \" | num.gen. =\", g + 1)"
   ]
  },
  {
   "cell_type": "code",
   "execution_count": 7,
   "metadata": {},
   "outputs": [
    {
     "name": "stdout",
     "output_type": "stream",
     "text": [
      "(0, 0, 0, 0, 0, 0, 0, 0, 0, 0, 0, 0, 0, 1, 0, 0, 1, 0, 0, 1, 0, 1, 0, 0, 0)\n",
      "(0, 1, 0, 1, 0, 0, 0, 0, 0, 0, 0, 0, 0, 1, 1, 0, 0, 1, 0, 0, 0, 0, 0, 0, 0)\n",
      "(0, 0, 0, 1, 0, 0, 0, 0, 0, 0, 0, 0, 0, 1, 1, 0, 0, 1, 0, 0, 0, 1, 0, 0, 0)\n",
      "(0, 0, 0, 1, 0, 0, 0, 0, 0, 0, 0, 0, 0, 1, 0, 0, 1, 0, 0, 1, 0, 1, 0, 0, 0)\n",
      "(0, 0, 0, 0, 0, 0, 0, 0, 0, 1, 0, 0, 0, 1, 0, 0, 1, 0, 0, 1, 0, 0, 0, 0, 0)\n",
      "(0, 0, 0, 0, 0, 1, 1, 0, 0, 0, 0, 0, 0, 1, 1, 0, 0, 1, 0, 0, 0, 0, 0, 0, 0)\n",
      "(0, 0, 0, 0, 0, 1, 1, 0, 0, 0, 0, 0, 0, 1, 0, 0, 1, 0, 0, 1, 0, 0, 0, 0, 0)\n",
      "(0, 0, 0, 0, 0, 0, 1, 0, 0, 0, 0, 0, 1, 1, 0, 1, 1, 0, 0, 0, 0, 0, 0, 0, 0)\n",
      "(0, 0, 0, 1, 0, 0, 0, 0, 0, 0, 0, 0, 0, 1, 0, 1, 1, 0, 0, 0, 0, 1, 0, 0, 0)\n",
      "(1, 0, 0, 0, 0, 1, 1, 0, 0, 0, 0, 0, 0, 0, 1, 0, 0, 1, 0, 0, 0, 0, 0, 0, 0)\n",
      "(0, 0, 0, 0, 0, 0, 1, 0, 0, 0, 0, 0, 0, 1, 0, 0, 1, 0, 0, 1, 0, 1, 0, 0, 0)\n",
      "(0, 0, 0, 0, 0, 1, 1, 0, 0, 0, 0, 0, 0, 0, 1, 0, 0, 1, 0, 0, 1, 0, 0, 0, 0)\n",
      "(1, 0, 0, 0, 0, 0, 0, 0, 0, 0, 0, 0, 0, 1, 0, 0, 1, 0, 0, 1, 0, 1, 0, 0, 0)\n",
      "(0, 1, 0, 1, 0, 0, 0, 0, 0, 0, 0, 0, 0, 1, 0, 0, 1, 0, 0, 1, 0, 1, 0, 0, 0)\n",
      "(1, 0, 0, 0, 0, 1, 1, 0, 0, 0, 0, 0, 0, 1, 1, 0, 0, 1, 0, 0, 0, 0, 0, 0, 0)\n",
      "(1, 0, 0, 1, 0, 0, 0, 0, 0, 0, 0, 0, 0, 1, 0, 0, 1, 0, 0, 1, 0, 1, 0, 0, 0)\n",
      "(1, 0, 0, 0, 0, 0, 0, 0, 0, 1, 0, 0, 0, 1, 0, 0, 1, 0, 0, 1, 0, 0, 0, 0, 0)\n",
      "(0, 0, 0, 0, 0, 0, 1, 0, 0, 0, 1, 0, 0, 1, 1, 0, 0, 1, 0, 0, 0, 0, 0, 0, 0)\n",
      "(0, 1, 0, 1, 0, 0, 0, 0, 0, 0, 0, 0, 0, 1, 1, 0, 0, 1, 0, 0, 1, 0, 0, 0, 0)\n",
      "(0, 0, 0, 0, 0, 0, 1, 0, 0, 1, 0, 0, 0, 1, 1, 0, 0, 1, 0, 0, 0, 0, 0, 0, 0)\n"
     ]
    }
   ],
   "source": [
    "for p in population:\n",
    "    print(p.genome)"
   ]
  },
  {
   "cell_type": "code",
   "execution_count": 8,
   "metadata": {},
   "outputs": [
    {
     "name": "stdout",
     "output_type": "stream",
     "text": [
      "[[0], [3], [2, 4], [1]] (0, 5)\n",
      "[[1], [4], [0], [0, 2], [3]] (0, 6)\n",
      "[[4], [0], [0, 2], [3], [1]] (0, 6)\n",
      "[[4], [0], [3], [2, 4], [1]] (0, 6)\n",
      "[[1, 3], [0], [3], [2, 4]] (0, 6)\n",
      "[[1], [4], [0], [0, 2], [3]] (0, 6)\n",
      "[[1], [4], [0], [3], [2, 4]] (0, 6)\n",
      "[[4], [1], [0], [2, 4], [3]] (0, 6)\n",
      "[[4], [0], [2, 4], [3], [1]] (0, 6)\n",
      "[[0], [1], [4], [0, 2], [3]] (0, 6)\n",
      "[[4], [0], [3], [2, 4], [1]] (0, 6)\n",
      "[[1], [4], [0, 2], [3], [0]] (0, 6)\n",
      "[[0], [0], [3], [2, 4], [1]] (0, 6)\n",
      "[[1], [4], [0], [3], [2, 4], [1]] (0, 7)\n",
      "[[0], [1], [4], [0], [0, 2], [3]] (0, 7)\n",
      "[[0], [4], [0], [3], [2, 4], [1]] (0, 7)\n",
      "[[0], [1, 3], [0], [3], [2, 4]] (0, 7)\n",
      "[[4], [0, 1], [0], [0, 2], [3]] (0, 7)\n",
      "[[1], [4], [0], [0, 2], [3], [0]] (0, 7)\n",
      "[[4], [1, 3], [0], [0, 2], [3]] (0, 7)\n"
     ]
    }
   ],
   "source": [
    "for p in population:\n",
    "    print(print_sol(p.genome, all_lists), p.fitness)"
   ]
  },
  {
   "cell_type": "markdown",
   "metadata": {},
   "source": [
    "### Final solution"
   ]
  },
  {
   "cell_type": "code",
   "execution_count": 9,
   "metadata": {},
   "outputs": [],
   "source": [
    "def ga(N):\n",
    "    \n",
    "    def flatten(l):\n",
    "        return [item for sublist in l for item in sublist]\n",
    "\n",
    "    def fitness(genome, all_lists):\n",
    "        x = list()\n",
    "        for i, g in enumerate(genome):\n",
    "            x.append(g * all_lists[i])\n",
    "        return(1 - int(set(flatten(x)) == GOAL), sum(len(_) for _ in x))\n",
    "\n",
    "    def tournament(population, tournament_size=2):\n",
    "        return max(random.choices(population, k=tournament_size), key=lambda i: i.fitness)\n",
    "\n",
    "    def cross_over(g1, g2):\n",
    "        cut = random.randint(0, PROBLEM_SIZE)\n",
    "        return g1[:cut] + g2[cut:]\n",
    "\n",
    "    def mutation(g):\n",
    "        point = random.randint(0, PROBLEM_SIZE - 1)\n",
    "        return g[:point] + (1 - g[point],) + g[point + 1 :] \n",
    "\n",
    "    def check_duplicates(genome, population):\n",
    "        population_genome = [p.genome for p in population]\n",
    "        return(genome in population_genome)\n",
    "    \n",
    "    import time\n",
    "    start_time = time.time()\n",
    "\n",
    "\n",
    "    all_lists = problem(N)\n",
    "\n",
    "    PROBLEM_SIZE = len(all_lists)\n",
    "    POPULATION_SIZE = 20\n",
    "    OFFSPRING_SIZE = 30\n",
    "\n",
    "    NUM_GENERATIONS = 10000\n",
    "\n",
    "    GOAL = set(range(N))\n",
    "\n",
    "\n",
    "    population = list()\n",
    "    Individual = namedtuple(\"Individual\", [\"genome\", \"fitness\"])\n",
    "\n",
    "    i = 0\n",
    "    while i < POPULATION_SIZE:\n",
    "        genome = tuple([random.choice([1, 0]) for _ in range(PROBLEM_SIZE)])\n",
    "        \n",
    "        if check_duplicates(genome, population):\n",
    "            i -= 1\n",
    "        else:\n",
    "            population.append(Individual(genome, fitness(genome, all_lists))) \n",
    "        i += 1\n",
    "    \n",
    "\n",
    "    fitness_log = [(0, i.fitness) for i in population]\n",
    "    best_res_log = [(0,(sorted(population, key = lambda i: i.fitness)[0])[1])]\n",
    "\n",
    "    for g in range(NUM_GENERATIONS):\n",
    "        offspring = list()\n",
    "\n",
    "\n",
    "        i = 0\n",
    "        while i < OFFSPRING_SIZE:\n",
    "            \n",
    "            if random.random() < 0.3:\n",
    "                p = tournament(population)\n",
    "                o = mutation(p.genome)\n",
    "                #o = mutation(o)\n",
    "            else:\n",
    "                p1 = tournament(population)\n",
    "                p2 = tournament(population)\n",
    "                o = cross_over(p1.genome, p2.genome)\n",
    "            \n",
    "            if check_duplicates(o, population) or check_duplicates(o, offspring):\n",
    "                i -= 1\n",
    "            else:\n",
    "                f = fitness(o, all_lists)\n",
    "                fitness_log.append((g + 1, f))\n",
    "                offspring.append(Individual(o, f))\n",
    "            i += 1\n",
    "        \n",
    "        \n",
    "        population += offspring\n",
    "        population = sorted(population, key = lambda i: i.fitness)[:POPULATION_SIZE]\n",
    "        best_res_log.append((g+1, population[0][1]))  \n",
    "        if population[0][1] == (0, N):\n",
    "            break\n",
    "        end_time = time.time()\n",
    "\n",
    "        if end_time - start_time > 600:\n",
    "            break\n",
    "\n",
    "\n",
    "        print (round(100*g/NUM_GENERATIONS, 3), \" %\", \" time: \", round(end_time - start_time, 1), \" s |||\", sep='', end=\"\\r\")\n",
    "        \n",
    "\n",
    "    w = population[0][1][1]\n",
    "    print('', end=\"\\r\")\n",
    "    print(\"N =\", N, \"| w =\", w, \"| num.gen. =\", g + 1, \"\\t\\t\\t\\t\\t\\t\")\n",
    "    "
   ]
  },
  {
   "cell_type": "code",
   "execution_count": 10,
   "metadata": {},
   "outputs": [
    {
     "name": "stdout",
     "output_type": "stream",
     "text": [
      "N = 5 | w = 5 | num.gen. = 17 \t\t\t\t\t\t\n",
      "N = 10 | w = 11 | num.gen. = 10000 \t\t\t\t\t\t % time: 4.4 s ||| % time: 5.5 s |||\n",
      "N = 20 | w = 24 | num.gen. = 10000 \t\t\t\t\t\t\n",
      "N = 100 | w = 229 | num.gen. = 10000 \t\t\t\t\t\t1 s ||| % time: 35.9 s ||| % time: 36.5 s |||\n",
      "N = 500 | w = 1651 | num.gen. = 10000 \t\t\t\t\t\t\n",
      "N = 1000 | w = 335162 | num.gen. = 662 \t\t\t\t\t\t\n"
     ]
    }
   ],
   "source": [
    "for N in [5, 10, 20, 100, 500, 1000]:\n",
    "    ga(N)"
   ]
  }
 ],
 "metadata": {
  "kernelspec": {
   "display_name": "Python 3.10.2 64-bit",
   "language": "python",
   "name": "python3"
  },
  "language_info": {
   "codemirror_mode": {
    "name": "ipython",
    "version": 3
   },
   "file_extension": ".py",
   "mimetype": "text/x-python",
   "name": "python",
   "nbconvert_exporter": "python",
   "pygments_lexer": "ipython3",
   "version": "3.10.2"
  },
  "orig_nbformat": 4,
  "vscode": {
   "interpreter": {
    "hash": "369f2c481f4da34e4445cda3fffd2e751bd1c4d706f27375911949ba6bb62e1c"
   }
  }
 },
 "nbformat": 4,
 "nbformat_minor": 2
}
