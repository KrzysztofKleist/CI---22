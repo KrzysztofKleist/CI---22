{
 "cells": [
  {
   "cell_type": "code",
   "execution_count": 1,
   "metadata": {},
   "outputs": [],
   "source": [
    "import random\n",
    "import logging\n",
    "logging.basicConfig(format='%(message)s', level = logging.INFO)\n",
    "# logging.StreamHandler.terminator = \"\"\n",
    "from gx_utils import *\n",
    "from typing import Callable"
   ]
  },
  {
   "cell_type": "code",
   "execution_count": 2,
   "metadata": {},
   "outputs": [],
   "source": [
    "def problem(N, seed=None):\n",
    "    random.seed(seed)\n",
    "    return [\n",
    "        list(set(random.randint(0, N - 1) for n in range(random.randint(N // 5, N // 2))))\n",
    "        for n in range(random.randint(N, N * 5))\n",
    "    ]"
   ]
  },
  {
   "cell_type": "code",
   "execution_count": 3,
   "metadata": {},
   "outputs": [],
   "source": [
    "class State:\n",
    "    def __init__(self, data=set()):\n",
    "        self._data = data.copy()\n",
    "        self.prev_data = set()\n",
    "    #    self._data.flags.writeable = False\n",
    "\n",
    "    def __hash__(self):\n",
    "        return hash(bytes(self._data))\n",
    "\n",
    "    def __eq__(self, other):\n",
    "        return bytes(self._data) == bytes(other._data)\n",
    "\n",
    "    def __lt__(self, other):\n",
    "        return bytes(self._data) < bytes(other._data)\n",
    "\n",
    "    def __str__(self):\n",
    "        return str(self._data)\n",
    "\n",
    "    def __repr__(self):\n",
    "        return repr(self._data)\n",
    "\n",
    "    def update_state(self, old_state, new_set):\n",
    "        self._data = old_state._data.copy()\n",
    "        self.prev_data = new_set.copy()\n",
    "        self._data.update(new_set.copy())\n",
    "\n",
    "    @property\n",
    "    def data(self):\n",
    "        return self._data\n",
    "\n",
    "    def copy_data(self):\n",
    "        return self._data.copy()"
   ]
  },
  {
   "cell_type": "markdown",
   "metadata": {},
   "source": [
    "### N in [5, 10, 20]"
   ]
  },
  {
   "cell_type": "code",
   "execution_count": 4,
   "metadata": {},
   "outputs": [],
   "source": [
    "N = 5\n",
    "GOAL = State()\n",
    "GOAL._data = set(range(N))\n",
    "INITIAL_STATE = State()"
   ]
  },
  {
   "cell_type": "code",
   "execution_count": 5,
   "metadata": {},
   "outputs": [],
   "source": [
    "def append_state():\n",
    "    pass\n",
    "\n",
    "def goal_test(set_state: State):\n",
    "    return set_state._data == GOAL._data"
   ]
  },
  {
   "cell_type": "code",
   "execution_count": 6,
   "metadata": {},
   "outputs": [],
   "source": [
    "def search(\n",
    "    set_list: list,\n",
    "    initial_state: State,\n",
    "    goal_test: Callable,\n",
    "    parent_state: dict,\n",
    "    state_cost: dict,\n",
    "    priority_function: Callable,\n",
    "    unit_cost: Callable,\n",
    "):\n",
    "    frontier = PriorityQueue()\n",
    "    parent_state.clear()\n",
    "    state_cost.clear()\n",
    "\n",
    "    state = initial_state\n",
    "    parent_state[state] = None\n",
    "    state_cost[state] = 0\n",
    "\n",
    "    while state is not None and not goal_test(state):\n",
    "        for new_set in set_list:\n",
    "            new_state = State()\n",
    "            new_state.update_state(state, new_set)\n",
    "            cost = unit_cost(new_set)\n",
    "            if new_state not in state_cost and new_state not in frontier:\n",
    "                parent_state[new_state] = state\n",
    "                state_cost[new_state] = state_cost[state] + cost\n",
    "                frontier.push(new_state, p=priority_function(new_state))\n",
    "                #logging.debug(f\"Added new node to frontier (cost={state_cost[new_state]})\")\n",
    "            elif new_state in frontier and state_cost[new_state] > state_cost[state] + cost:\n",
    "                old_cost = state_cost[new_state]\n",
    "                parent_state[new_state] = state\n",
    "                state_cost[new_state] = state_cost[state] + cost\n",
    "                #logging.debug(f\"Updated node cost in frontier: {old_cost} -> {state_cost[new_state]}\")\n",
    "        if frontier:\n",
    "            state = frontier.pop()\n",
    "        else:\n",
    "            state = None\n",
    "\n",
    "    path = list()\n",
    "    s = state\n",
    "    while s:\n",
    "        if s._data == set():\n",
    "            break\n",
    "        path.append(s.prev_data)\n",
    "        s = parent_state[s]\n",
    "\n",
    "    num_of_elements = 0\n",
    "    for s in path:\n",
    "        num_of_elements += len(s)\n",
    "\n",
    "    logging.info(f\"Found a solution in {len(path):,} steps; number of elements: {num_of_elements}; visited {len(state_cost):,} states\")\n",
    "    logging.info(f\"{list(reversed(path))}\")\n",
    "    # return list(reversed(path))"
   ]
  },
  {
   "cell_type": "code",
   "execution_count": 7,
   "metadata": {},
   "outputs": [],
   "source": [
    "def h(new_state: State):\n",
    "    return len(GOAL._data) - len(new_state._data)"
   ]
  },
  {
   "cell_type": "code",
   "execution_count": 8,
   "metadata": {},
   "outputs": [],
   "source": [
    "result = problem(N, seed=42)\n",
    "set_list = [set(item) for item in result]"
   ]
  },
  {
   "cell_type": "markdown",
   "metadata": {},
   "source": [
    "## Breadth-First\n",
    "\n",
    "Solutions:\n",
    "- N = 5: 3 steps; number of elements: 5; visited 32 states, [{0}, {1, 3}, {2, 4}]\n",
    "- N = 10: 3 steps; number of elements: 12; visited 772 states, [{9, 6}, {0, 1, 3, 4, 5}, {3, 4, 5, 6, 8}]\n",
    "- N = 20: 5 steps; number of elements: 28; visited 13,580 states, [{8, 4, 7}, {2, 18, 6, 8, 10, 12, 15}, {16, 9, 19, 6}, {0, 16, 17, 5, 11}, {0, 3, 5, 8, 9, 10, 13, 14, 17}]"
   ]
  },
  {
   "cell_type": "code",
   "execution_count": 9,
   "metadata": {},
   "outputs": [
    {
     "name": "stderr",
     "output_type": "stream",
     "text": [
      "Found a solution in 3 steps; number of elements: 5; visited 32 states\n",
      "[{0}, {1, 3}, {2, 4}]\n"
     ]
    }
   ],
   "source": [
    "parent_state = dict()\n",
    "state_cost = dict()\n",
    "\n",
    "search(\n",
    "    set_list,\n",
    "    INITIAL_STATE,\n",
    "    goal_test=goal_test,\n",
    "    parent_state=parent_state,\n",
    "    state_cost=state_cost,\n",
    "    priority_function=lambda s: len(state_cost),\n",
    "    unit_cost=lambda a: len(a),\n",
    ")"
   ]
  },
  {
   "cell_type": "markdown",
   "metadata": {},
   "source": [
    "## Depth-First\n",
    "\n",
    "Solutions:\n",
    "- N = 5: 3 steps; number of elements: 5; visited 16 states, [{2, 3}, {0, 1}, {4}]\n",
    "- N = 10: 5 steps; number of elements: 15; visited 97 states, [{5, 6}, {1, 3, 6, 7}, {0, 9, 3}, {2, 3, 4}, {8, 9, 3}]\n",
    "- N = 20: 7 steps; number of elements: 45; visited 129 states, [{0, 1, 2, 3, 5, 7, 14, 17}, {5, 7, 8, 13, 14}, {17, 3, 6, 7, 10, 14}, {3, 6, 7, 13, 15}, {17, 6, 9, 11, 12}, {4, 5, 8, 13, 15, 16, 17, 19}, {0, 1, 2, 3, 6, 13, 17, 18}]"
   ]
  },
  {
   "cell_type": "code",
   "execution_count": 10,
   "metadata": {},
   "outputs": [
    {
     "name": "stderr",
     "output_type": "stream",
     "text": [
      "Found a solution in 3 steps; number of elements: 5; visited 16 states\n",
      "[{2, 3}, {0, 1}, {4}]\n"
     ]
    }
   ],
   "source": [
    "parent_state = dict()\n",
    "state_cost = dict()\n",
    "\n",
    "search(\n",
    "    set_list,\n",
    "    INITIAL_STATE,\n",
    "    goal_test=goal_test,\n",
    "    parent_state=parent_state,\n",
    "    state_cost=state_cost,\n",
    "    priority_function=lambda s: -len(state_cost),\n",
    "    unit_cost=lambda a: len(a),\n",
    ")"
   ]
  },
  {
   "cell_type": "markdown",
   "metadata": {},
   "source": [
    "## Gready Best-First\n",
    "\n",
    "Solutions:\n",
    "- N = 5: 3 steps; number of elements: 5; visited 17 states, [{0, 1}, {2, 3}, {4}]\n",
    "- N = 10: 3 steps; number of elements: 12; visited 62 states, [{0, 1, 3, 4, 5}, {9, 2, 6}, {8, 2, 3, 7}]\n",
    "- N = 20: 4 steps; number of elements: 29; visited 74 states [{0, 3, 5, 8, 9, 10, 13, 14, 17}, {16, 18, 4, 7, 11, 12, 15}, {0, 1, 2, 3, 6, 13, 17, 18}, {0, 16, 17, 19, 6}]"
   ]
  },
  {
   "cell_type": "code",
   "execution_count": 11,
   "metadata": {},
   "outputs": [
    {
     "name": "stderr",
     "output_type": "stream",
     "text": [
      "Found a solution in 3 steps; number of elements: 5; visited 17 states\n",
      "[{0, 1}, {2, 3}, {4}]\n"
     ]
    }
   ],
   "source": [
    "parent_state = dict()\n",
    "state_cost = dict()\n",
    "\n",
    "search(\n",
    "    set_list,\n",
    "    INITIAL_STATE,\n",
    "    goal_test=goal_test,\n",
    "    parent_state=parent_state,\n",
    "    state_cost=state_cost,\n",
    "    priority_function=lambda s: h(s),\n",
    "    unit_cost=lambda a: len(a),\n",
    ")"
   ]
  },
  {
   "cell_type": "markdown",
   "metadata": {},
   "source": [
    "## A*\n",
    "\n",
    "Solutions:\n",
    "- N = 5: 3 steps; number of elements: 5; visited 21 states, [{0, 1}, {2, 3}, {4}]\n",
    "- N = 10: 4 steps; number of elements: 10; visited 750 states, [{0, 1}, {8, 2, 7}, {4, 5, 6}, {9, 6}]\n",
    "- N = 20: 5 steps; number of elements: 26; visited 15,286 states, [{0, 16, 17, 5, 11}, {1, 3, 13, 14}, {2, 18, 6, 8, 10, 12, 15}, {8, 4, 7}, {2, 18, 6, 8, 10, 12, 15}]"
   ]
  },
  {
   "cell_type": "code",
   "execution_count": 12,
   "metadata": {},
   "outputs": [
    {
     "name": "stderr",
     "output_type": "stream",
     "text": [
      "Found a solution in 3 steps; number of elements: 5; visited 21 states\n",
      "[{0, 1}, {2, 3}, {4}]\n"
     ]
    }
   ],
   "source": [
    "parent_state = dict()\n",
    "state_cost = dict()\n",
    "\n",
    "search(\n",
    "    set_list,\n",
    "    INITIAL_STATE,\n",
    "    goal_test=goal_test,\n",
    "    parent_state=parent_state,\n",
    "    state_cost=state_cost,\n",
    "    priority_function=lambda s: state_cost[s] + h(s),\n",
    "    unit_cost=lambda a: len(a),\n",
    ")"
   ]
  }
 ],
 "metadata": {
  "kernelspec": {
   "display_name": "Python 3 (ipykernel)",
   "language": "python",
   "name": "python3"
  },
  "language_info": {
   "codemirror_mode": {
    "name": "ipython",
    "version": 3
   },
   "file_extension": ".py",
   "mimetype": "text/x-python",
   "name": "python",
   "nbconvert_exporter": "python",
   "pygments_lexer": "ipython3",
   "version": "3.9.13"
  },
  "vscode": {
   "interpreter": {
    "hash": "369f2c481f4da34e4445cda3fffd2e751bd1c4d706f27375911949ba6bb62e1c"
   }
  }
 },
 "nbformat": 4,
 "nbformat_minor": 2
}
